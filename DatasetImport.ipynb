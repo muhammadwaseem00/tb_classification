{
  "nbformat": 4,
  "nbformat_minor": 0,
  "metadata": {
    "colab": {
      "name": "DatasetImport.ipynb",
      "provenance": [],
      "toc_visible": true
    },
    "kernelspec": {
      "name": "python3",
      "display_name": "Python 3"
    },
    "accelerator": "GPU"
  },
  "cells": [
    {
      "cell_type": "code",
      "metadata": {
        "id": "P5ur2EfBTFWc",
        "colab_type": "code",
        "colab": {
          "resources": {
            "http://localhost:8080/nbextensions/google.colab/files.js": {
              "data": "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",
              "ok": true,
              "headers": [
                [
                  "content-type",
                  "application/javascript"
                ]
              ],
              "status": 200,
              "status_text": ""
            }
          },
          "base_uri": "https://localhost:8080/",
          "height": 91
        },
        "outputId": "c7607079-4584-4ab7-a40b-7d0c8080be83"
      },
      "source": [
        "from google.colab import files\n",
        "files.upload()"
      ],
      "execution_count": 1,
      "outputs": [
        {
          "output_type": "display_data",
          "data": {
            "text/html": [
              "\n",
              "     <input type=\"file\" id=\"files-00d831ee-93f2-44c5-9cb6-d682a7f64f84\" name=\"files[]\" multiple disabled />\n",
              "     <output id=\"result-00d831ee-93f2-44c5-9cb6-d682a7f64f84\">\n",
              "      Upload widget is only available when the cell has been executed in the\n",
              "      current browser session. Please rerun this cell to enable.\n",
              "      </output>\n",
              "      <script src=\"/nbextensions/google.colab/files.js\"></script> "
            ],
            "text/plain": [
              "<IPython.core.display.HTML object>"
            ]
          },
          "metadata": {
            "tags": []
          }
        },
        {
          "output_type": "stream",
          "text": [
            "Saving kaggle.json to kaggle.json\n"
          ],
          "name": "stdout"
        },
        {
          "output_type": "execute_result",
          "data": {
            "text/plain": [
              "{'kaggle.json': b'{\"username\":\"wasi17\",\"key\":\"30b6dc992dafa84ce4e99a8c62aba20a\"}'}"
            ]
          },
          "metadata": {
            "tags": []
          },
          "execution_count": 1
        }
      ]
    },
    {
      "cell_type": "code",
      "metadata": {
        "id": "jXTL41mJTZrt",
        "colab_type": "code",
        "colab": {}
      },
      "source": [
        ""
      ],
      "execution_count": 0,
      "outputs": []
    },
    {
      "cell_type": "code",
      "metadata": {
        "id": "6cbUgcaBWj7O",
        "colab_type": "code",
        "colab": {}
      },
      "source": [
        "!pip install -q kaggle"
      ],
      "execution_count": 0,
      "outputs": []
    },
    {
      "cell_type": "code",
      "metadata": {
        "id": "nFt6I3fnWt5A",
        "colab_type": "code",
        "colab": {}
      },
      "source": [
        "!mkdir -p ~/.kaggle\n",
        "!cp kaggle.json ~/.kaggle/"
      ],
      "execution_count": 0,
      "outputs": []
    },
    {
      "cell_type": "code",
      "metadata": {
        "id": "ho--6bnmTvDl",
        "colab_type": "code",
        "colab": {
          "base_uri": "https://localhost:8080/",
          "height": 306
        },
        "outputId": "04d1f17f-0d53-402c-b0ec-e32c6a8b3759"
      },
      "source": [
        "! kaggle datasets list -s tuberculosis "
      ],
      "execution_count": 9,
      "outputs": [
        {
          "output_type": "stream",
          "text": [
            "Warning: Your Kaggle API key is readable by other users on this system! To fix this, you can run 'chmod 600 /root/.kaggle/kaggle.json'\n",
            "Warning: Looks like you're using an outdated API Version, please consider updating (server 1.5.6 / client 1.5.4)\n",
            "ref                                                           title                                              size  lastUpdated          downloadCount  \n",
            "------------------------------------------------------------  ------------------------------------------------  -----  -------------------  -------------  \n",
            "kmader/pulmonary-chest-xray-abnormalities                     Pulmonary Chest X-Ray Abnormalities                 4GB  2018-03-09 17:46:12           4006  \n",
            "henajose/determine-the-pattern-of-tuberculosis-spread         Determine the pattern of Tuberculosis spread      120KB  2016-08-05 14:13:52            570  \n",
            "nikhilpandey360/chest-xray-masks-and-labels                   Chest Xray Masks and Labels                        10GB  2019-01-21 09:11:43           1130  \n",
            "raddar/chest-xrays-tuberculosis-from-india                    Chest X-rays tuberculosis from India               34MB  2020-02-19 12:58:34             24  \n",
            "raddar/drug-resistant-tuberculosis-xrays                      Drug resistant tuberculosis X-rays                  8GB  2020-02-17 23:46:58             32  \n",
            "yoctoman/shcxr-lung-mask                                      Lung Masks for Shenzhen Hospital Chest X-ray Set   20MB  2018-03-03 13:29:33           1452  \n",
            "raddar/tuberculosis-chest-xrays-shenzhen                      Tuberculosis Chest X-rays (Shenzhen)                4GB  2020-02-22 18:23:41             29  \n",
            "raddar/tuberculosis-chest-xrays-montgomery                    Tuberculosis Chest X-rays (Montgomery)            585MB  2020-02-22 18:05:42             15  \n",
            "cdc/nndss-tuberculosis                                        NNDSS - Tuberculosis                               48KB  2019-05-22 01:41:45             86  \n",
            "rajanand/key-indicators-of-annual-health-survey               Health Analytics                                    1MB  2017-08-09 19:21:42           6739  \n",
            "nwheeler443/gono-unitigs                                      Predicting antibiotic resistance in gonorrhoea      2MB  2019-10-05 14:58:58            303  \n",
            "sid321axn/thoraric-surgery                                    Thoracic Surgery Dataset                            5KB  2019-07-29 22:54:42             83  \n",
            "florianlandras/covid19-first-test-results-chloroquine-france  Covid19 First test results Chloroquine France      971B  2020-03-27 18:32:02              7  \n"
          ],
          "name": "stdout"
        }
      ]
    },
    {
      "cell_type": "code",
      "metadata": {
        "id": "6pGqU4eDVBFN",
        "colab_type": "code",
        "colab": {
          "base_uri": "https://localhost:8080/",
          "height": 85
        },
        "outputId": "6f0fe7a1-899c-46fa-e49a-3ce39f4c18b7"
      },
      "source": [
        "!kaggle datasets download -d kmader/pulmonary-chest-xray-abnormalities "
      ],
      "execution_count": 10,
      "outputs": [
        {
          "output_type": "stream",
          "text": [
            "Warning: Your Kaggle API key is readable by other users on this system! To fix this, you can run 'chmod 600 /root/.kaggle/kaggle.json'\n",
            "Downloading pulmonary-chest-xray-abnormalities.zip to /content\n",
            "100% 4.07G/4.09G [01:39<00:00, 61.2MB/s]\n",
            "100% 4.09G/4.09G [01:39<00:00, 44.2MB/s]\n"
          ],
          "name": "stdout"
        }
      ]
    },
    {
      "cell_type": "code",
      "metadata": {
        "id": "D-JVBZUwVrl_",
        "colab_type": "code",
        "colab": {
          "base_uri": "https://localhost:8080/",
          "height": 51
        },
        "outputId": "f0d5da64-dd00-4f60-c53b-1ae4e1f1e981"
      },
      "source": [
        "!ls "
      ],
      "execution_count": 13,
      "outputs": [
        {
          "output_type": "stream",
          "text": [
            "kaggle.json\t\t     pulmonary-chest-xray-abnormalities.zip\n",
            "nih-chest-xrays-224-rgb.zip  sample_data\n"
          ],
          "name": "stdout"
        }
      ]
    },
    {
      "cell_type": "code",
      "metadata": {
        "id": "dlj-6C4GUTK-",
        "colab_type": "code",
        "colab": {}
      },
      "source": [
        "from zipfile import ZipFile \n",
        "def unZip(file_name):\n",
        "  with ZipFile(file_name, 'r') as zip: \n",
        "      zip.extractall() \n",
        "      print('Done!') "
      ],
      "execution_count": 0,
      "outputs": []
    },
    {
      "cell_type": "code",
      "metadata": {
        "id": "gH-2RiG2TzMf",
        "colab_type": "code",
        "colab": {
          "base_uri": "https://localhost:8080/",
          "height": 34
        },
        "outputId": "f32d0c33-8b0a-412d-e4f6-562f50665c76"
      },
      "source": [
        "unZip('pulmonary-chest-xray-abnormalities.zip')"
      ],
      "execution_count": 14,
      "outputs": [
        {
          "output_type": "stream",
          "text": [
            "Done!\n"
          ],
          "name": "stdout"
        }
      ]
    },
    {
      "cell_type": "code",
      "metadata": {
        "id": "z0KzbSgjVwlj",
        "colab_type": "code",
        "colab": {
          "base_uri": "https://localhost:8080/",
          "height": 1000
        },
        "outputId": "43a964e6-bcac-4892-850c-78d86dbb5da2"
      },
      "source": [
        "!ls ChinaSet_AllFiles/ChinaSet_AllFiles/CXR_png/"
      ],
      "execution_count": 19,
      "outputs": [
        {
          "output_type": "stream",
          "text": [
            "CHNCXR_0001_0.png  CHNCXR_0167_0.png  CHNCXR_0333_1.png  CHNCXR_0499_1.png\n",
            "CHNCXR_0002_0.png  CHNCXR_0168_0.png  CHNCXR_0334_1.png  CHNCXR_0500_1.png\n",
            "CHNCXR_0003_0.png  CHNCXR_0169_0.png  CHNCXR_0335_1.png  CHNCXR_0501_1.png\n",
            "CHNCXR_0004_0.png  CHNCXR_0170_0.png  CHNCXR_0336_1.png  CHNCXR_0502_1.png\n",
            "CHNCXR_0005_0.png  CHNCXR_0171_0.png  CHNCXR_0337_1.png  CHNCXR_0503_1.png\n",
            "CHNCXR_0006_0.png  CHNCXR_0172_0.png  CHNCXR_0338_1.png  CHNCXR_0504_1.png\n",
            "CHNCXR_0007_0.png  CHNCXR_0173_0.png  CHNCXR_0339_1.png  CHNCXR_0505_1.png\n",
            "CHNCXR_0008_0.png  CHNCXR_0174_0.png  CHNCXR_0340_1.png  CHNCXR_0506_1.png\n",
            "CHNCXR_0009_0.png  CHNCXR_0175_0.png  CHNCXR_0341_1.png  CHNCXR_0507_1.png\n",
            "CHNCXR_0010_0.png  CHNCXR_0176_0.png  CHNCXR_0342_1.png  CHNCXR_0508_1.png\n",
            "CHNCXR_0011_0.png  CHNCXR_0177_0.png  CHNCXR_0343_1.png  CHNCXR_0509_1.png\n",
            "CHNCXR_0012_0.png  CHNCXR_0178_0.png  CHNCXR_0344_1.png  CHNCXR_0510_1.png\n",
            "CHNCXR_0013_0.png  CHNCXR_0179_0.png  CHNCXR_0345_1.png  CHNCXR_0511_1.png\n",
            "CHNCXR_0014_0.png  CHNCXR_0180_0.png  CHNCXR_0346_1.png  CHNCXR_0512_1.png\n",
            "CHNCXR_0015_0.png  CHNCXR_0181_0.png  CHNCXR_0347_1.png  CHNCXR_0513_1.png\n",
            "CHNCXR_0016_0.png  CHNCXR_0182_0.png  CHNCXR_0348_1.png  CHNCXR_0514_1.png\n",
            "CHNCXR_0017_0.png  CHNCXR_0183_0.png  CHNCXR_0349_1.png  CHNCXR_0515_1.png\n",
            "CHNCXR_0018_0.png  CHNCXR_0184_0.png  CHNCXR_0350_1.png  CHNCXR_0516_1.png\n",
            "CHNCXR_0019_0.png  CHNCXR_0185_0.png  CHNCXR_0351_1.png  CHNCXR_0517_1.png\n",
            "CHNCXR_0020_0.png  CHNCXR_0186_0.png  CHNCXR_0352_1.png  CHNCXR_0518_1.png\n",
            "CHNCXR_0021_0.png  CHNCXR_0187_0.png  CHNCXR_0353_1.png  CHNCXR_0519_1.png\n",
            "CHNCXR_0022_0.png  CHNCXR_0188_0.png  CHNCXR_0354_1.png  CHNCXR_0520_1.png\n",
            "CHNCXR_0023_0.png  CHNCXR_0189_0.png  CHNCXR_0355_1.png  CHNCXR_0521_1.png\n",
            "CHNCXR_0024_0.png  CHNCXR_0190_0.png  CHNCXR_0356_1.png  CHNCXR_0522_1.png\n",
            "CHNCXR_0025_0.png  CHNCXR_0191_0.png  CHNCXR_0357_1.png  CHNCXR_0523_1.png\n",
            "CHNCXR_0026_0.png  CHNCXR_0192_0.png  CHNCXR_0358_1.png  CHNCXR_0524_1.png\n",
            "CHNCXR_0027_0.png  CHNCXR_0193_0.png  CHNCXR_0359_1.png  CHNCXR_0525_1.png\n",
            "CHNCXR_0028_0.png  CHNCXR_0194_0.png  CHNCXR_0360_1.png  CHNCXR_0526_1.png\n",
            "CHNCXR_0029_0.png  CHNCXR_0195_0.png  CHNCXR_0361_1.png  CHNCXR_0527_1.png\n",
            "CHNCXR_0030_0.png  CHNCXR_0196_0.png  CHNCXR_0362_1.png  CHNCXR_0528_1.png\n",
            "CHNCXR_0031_0.png  CHNCXR_0197_0.png  CHNCXR_0363_1.png  CHNCXR_0529_1.png\n",
            "CHNCXR_0032_0.png  CHNCXR_0198_0.png  CHNCXR_0364_1.png  CHNCXR_0530_1.png\n",
            "CHNCXR_0033_0.png  CHNCXR_0199_0.png  CHNCXR_0365_1.png  CHNCXR_0531_1.png\n",
            "CHNCXR_0034_0.png  CHNCXR_0200_0.png  CHNCXR_0366_1.png  CHNCXR_0532_1.png\n",
            "CHNCXR_0035_0.png  CHNCXR_0201_0.png  CHNCXR_0367_1.png  CHNCXR_0533_1.png\n",
            "CHNCXR_0036_0.png  CHNCXR_0202_0.png  CHNCXR_0368_1.png  CHNCXR_0534_1.png\n",
            "CHNCXR_0037_0.png  CHNCXR_0203_0.png  CHNCXR_0369_1.png  CHNCXR_0535_1.png\n",
            "CHNCXR_0038_0.png  CHNCXR_0204_0.png  CHNCXR_0370_1.png  CHNCXR_0536_1.png\n",
            "CHNCXR_0039_0.png  CHNCXR_0205_0.png  CHNCXR_0371_1.png  CHNCXR_0537_1.png\n",
            "CHNCXR_0040_0.png  CHNCXR_0206_0.png  CHNCXR_0372_1.png  CHNCXR_0538_1.png\n",
            "CHNCXR_0041_0.png  CHNCXR_0207_0.png  CHNCXR_0373_1.png  CHNCXR_0539_1.png\n",
            "CHNCXR_0042_0.png  CHNCXR_0208_0.png  CHNCXR_0374_1.png  CHNCXR_0540_1.png\n",
            "CHNCXR_0043_0.png  CHNCXR_0209_0.png  CHNCXR_0375_1.png  CHNCXR_0541_1.png\n",
            "CHNCXR_0044_0.png  CHNCXR_0210_0.png  CHNCXR_0376_1.png  CHNCXR_0542_1.png\n",
            "CHNCXR_0045_0.png  CHNCXR_0211_0.png  CHNCXR_0377_1.png  CHNCXR_0543_1.png\n",
            "CHNCXR_0046_0.png  CHNCXR_0212_0.png  CHNCXR_0378_1.png  CHNCXR_0544_1.png\n",
            "CHNCXR_0047_0.png  CHNCXR_0213_0.png  CHNCXR_0379_1.png  CHNCXR_0545_1.png\n",
            "CHNCXR_0048_0.png  CHNCXR_0214_0.png  CHNCXR_0380_1.png  CHNCXR_0546_1.png\n",
            "CHNCXR_0049_0.png  CHNCXR_0215_0.png  CHNCXR_0381_1.png  CHNCXR_0547_1.png\n",
            "CHNCXR_0050_0.png  CHNCXR_0216_0.png  CHNCXR_0382_1.png  CHNCXR_0548_1.png\n",
            "CHNCXR_0051_0.png  CHNCXR_0217_0.png  CHNCXR_0383_1.png  CHNCXR_0549_1.png\n",
            "CHNCXR_0052_0.png  CHNCXR_0218_0.png  CHNCXR_0384_1.png  CHNCXR_0550_1.png\n",
            "CHNCXR_0053_0.png  CHNCXR_0219_0.png  CHNCXR_0385_1.png  CHNCXR_0551_1.png\n",
            "CHNCXR_0054_0.png  CHNCXR_0220_0.png  CHNCXR_0386_1.png  CHNCXR_0552_1.png\n",
            "CHNCXR_0055_0.png  CHNCXR_0221_0.png  CHNCXR_0387_1.png  CHNCXR_0553_1.png\n",
            "CHNCXR_0056_0.png  CHNCXR_0222_0.png  CHNCXR_0388_1.png  CHNCXR_0554_1.png\n",
            "CHNCXR_0057_0.png  CHNCXR_0223_0.png  CHNCXR_0389_1.png  CHNCXR_0555_1.png\n",
            "CHNCXR_0058_0.png  CHNCXR_0224_0.png  CHNCXR_0390_1.png  CHNCXR_0556_1.png\n",
            "CHNCXR_0059_0.png  CHNCXR_0225_0.png  CHNCXR_0391_1.png  CHNCXR_0557_1.png\n",
            "CHNCXR_0060_0.png  CHNCXR_0226_0.png  CHNCXR_0392_1.png  CHNCXR_0558_1.png\n",
            "CHNCXR_0061_0.png  CHNCXR_0227_0.png  CHNCXR_0393_1.png  CHNCXR_0559_1.png\n",
            "CHNCXR_0062_0.png  CHNCXR_0228_0.png  CHNCXR_0394_1.png  CHNCXR_0560_1.png\n",
            "CHNCXR_0063_0.png  CHNCXR_0229_0.png  CHNCXR_0395_1.png  CHNCXR_0561_1.png\n",
            "CHNCXR_0064_0.png  CHNCXR_0230_0.png  CHNCXR_0396_1.png  CHNCXR_0562_1.png\n",
            "CHNCXR_0065_0.png  CHNCXR_0231_0.png  CHNCXR_0397_1.png  CHNCXR_0563_1.png\n",
            "CHNCXR_0066_0.png  CHNCXR_0232_0.png  CHNCXR_0398_1.png  CHNCXR_0564_1.png\n",
            "CHNCXR_0067_0.png  CHNCXR_0233_0.png  CHNCXR_0399_1.png  CHNCXR_0565_1.png\n",
            "CHNCXR_0068_0.png  CHNCXR_0234_0.png  CHNCXR_0400_1.png  CHNCXR_0566_1.png\n",
            "CHNCXR_0069_0.png  CHNCXR_0235_0.png  CHNCXR_0401_1.png  CHNCXR_0567_1.png\n",
            "CHNCXR_0070_0.png  CHNCXR_0236_0.png  CHNCXR_0402_1.png  CHNCXR_0568_1.png\n",
            "CHNCXR_0071_0.png  CHNCXR_0237_0.png  CHNCXR_0403_1.png  CHNCXR_0569_1.png\n",
            "CHNCXR_0072_0.png  CHNCXR_0238_0.png  CHNCXR_0404_1.png  CHNCXR_0570_1.png\n",
            "CHNCXR_0073_0.png  CHNCXR_0239_0.png  CHNCXR_0405_1.png  CHNCXR_0571_1.png\n",
            "CHNCXR_0074_0.png  CHNCXR_0240_0.png  CHNCXR_0406_1.png  CHNCXR_0572_1.png\n",
            "CHNCXR_0075_0.png  CHNCXR_0241_0.png  CHNCXR_0407_1.png  CHNCXR_0573_1.png\n",
            "CHNCXR_0076_0.png  CHNCXR_0242_0.png  CHNCXR_0408_1.png  CHNCXR_0574_1.png\n",
            "CHNCXR_0077_0.png  CHNCXR_0243_0.png  CHNCXR_0409_1.png  CHNCXR_0575_1.png\n",
            "CHNCXR_0078_0.png  CHNCXR_0244_0.png  CHNCXR_0410_1.png  CHNCXR_0576_1.png\n",
            "CHNCXR_0079_0.png  CHNCXR_0245_0.png  CHNCXR_0411_1.png  CHNCXR_0577_1.png\n",
            "CHNCXR_0080_0.png  CHNCXR_0246_0.png  CHNCXR_0412_1.png  CHNCXR_0578_1.png\n",
            "CHNCXR_0081_0.png  CHNCXR_0247_0.png  CHNCXR_0413_1.png  CHNCXR_0579_1.png\n",
            "CHNCXR_0082_0.png  CHNCXR_0248_0.png  CHNCXR_0414_1.png  CHNCXR_0580_1.png\n",
            "CHNCXR_0083_0.png  CHNCXR_0249_0.png  CHNCXR_0415_1.png  CHNCXR_0581_1.png\n",
            "CHNCXR_0084_0.png  CHNCXR_0250_0.png  CHNCXR_0416_1.png  CHNCXR_0582_1.png\n",
            "CHNCXR_0085_0.png  CHNCXR_0251_0.png  CHNCXR_0417_1.png  CHNCXR_0583_1.png\n",
            "CHNCXR_0086_0.png  CHNCXR_0252_0.png  CHNCXR_0418_1.png  CHNCXR_0584_1.png\n",
            "CHNCXR_0087_0.png  CHNCXR_0253_0.png  CHNCXR_0419_1.png  CHNCXR_0585_1.png\n",
            "CHNCXR_0088_0.png  CHNCXR_0254_0.png  CHNCXR_0420_1.png  CHNCXR_0586_1.png\n",
            "CHNCXR_0089_0.png  CHNCXR_0255_0.png  CHNCXR_0421_1.png  CHNCXR_0587_1.png\n",
            "CHNCXR_0090_0.png  CHNCXR_0256_0.png  CHNCXR_0422_1.png  CHNCXR_0588_1.png\n",
            "CHNCXR_0091_0.png  CHNCXR_0257_0.png  CHNCXR_0423_1.png  CHNCXR_0589_1.png\n",
            "CHNCXR_0092_0.png  CHNCXR_0258_0.png  CHNCXR_0424_1.png  CHNCXR_0590_1.png\n",
            "CHNCXR_0093_0.png  CHNCXR_0259_0.png  CHNCXR_0425_1.png  CHNCXR_0591_1.png\n",
            "CHNCXR_0094_0.png  CHNCXR_0260_0.png  CHNCXR_0426_1.png  CHNCXR_0592_1.png\n",
            "CHNCXR_0095_0.png  CHNCXR_0261_0.png  CHNCXR_0427_1.png  CHNCXR_0593_1.png\n",
            "CHNCXR_0096_0.png  CHNCXR_0262_0.png  CHNCXR_0428_1.png  CHNCXR_0594_1.png\n",
            "CHNCXR_0097_0.png  CHNCXR_0263_0.png  CHNCXR_0429_1.png  CHNCXR_0595_1.png\n",
            "CHNCXR_0098_0.png  CHNCXR_0264_0.png  CHNCXR_0430_1.png  CHNCXR_0596_1.png\n",
            "CHNCXR_0099_0.png  CHNCXR_0265_0.png  CHNCXR_0431_1.png  CHNCXR_0597_1.png\n",
            "CHNCXR_0100_0.png  CHNCXR_0266_0.png  CHNCXR_0432_1.png  CHNCXR_0598_1.png\n",
            "CHNCXR_0101_0.png  CHNCXR_0267_0.png  CHNCXR_0433_1.png  CHNCXR_0599_1.png\n",
            "CHNCXR_0102_0.png  CHNCXR_0268_0.png  CHNCXR_0434_1.png  CHNCXR_0600_1.png\n",
            "CHNCXR_0103_0.png  CHNCXR_0269_0.png  CHNCXR_0435_1.png  CHNCXR_0601_1.png\n",
            "CHNCXR_0104_0.png  CHNCXR_0270_0.png  CHNCXR_0436_1.png  CHNCXR_0602_1.png\n",
            "CHNCXR_0105_0.png  CHNCXR_0271_0.png  CHNCXR_0437_1.png  CHNCXR_0603_1.png\n",
            "CHNCXR_0106_0.png  CHNCXR_0272_0.png  CHNCXR_0438_1.png  CHNCXR_0604_1.png\n",
            "CHNCXR_0107_0.png  CHNCXR_0273_0.png  CHNCXR_0439_1.png  CHNCXR_0605_1.png\n",
            "CHNCXR_0108_0.png  CHNCXR_0274_0.png  CHNCXR_0440_1.png  CHNCXR_0606_1.png\n",
            "CHNCXR_0109_0.png  CHNCXR_0275_0.png  CHNCXR_0441_1.png  CHNCXR_0607_1.png\n",
            "CHNCXR_0110_0.png  CHNCXR_0276_0.png  CHNCXR_0442_1.png  CHNCXR_0608_1.png\n",
            "CHNCXR_0111_0.png  CHNCXR_0277_0.png  CHNCXR_0443_1.png  CHNCXR_0609_1.png\n",
            "CHNCXR_0112_0.png  CHNCXR_0278_0.png  CHNCXR_0444_1.png  CHNCXR_0610_1.png\n",
            "CHNCXR_0113_0.png  CHNCXR_0279_0.png  CHNCXR_0445_1.png  CHNCXR_0611_1.png\n",
            "CHNCXR_0114_0.png  CHNCXR_0280_0.png  CHNCXR_0446_1.png  CHNCXR_0612_1.png\n",
            "CHNCXR_0115_0.png  CHNCXR_0281_0.png  CHNCXR_0447_1.png  CHNCXR_0613_1.png\n",
            "CHNCXR_0116_0.png  CHNCXR_0282_0.png  CHNCXR_0448_1.png  CHNCXR_0614_1.png\n",
            "CHNCXR_0117_0.png  CHNCXR_0283_0.png  CHNCXR_0449_1.png  CHNCXR_0615_1.png\n",
            "CHNCXR_0118_0.png  CHNCXR_0284_0.png  CHNCXR_0450_1.png  CHNCXR_0616_1.png\n",
            "CHNCXR_0119_0.png  CHNCXR_0285_0.png  CHNCXR_0451_1.png  CHNCXR_0617_1.png\n",
            "CHNCXR_0120_0.png  CHNCXR_0286_0.png  CHNCXR_0452_1.png  CHNCXR_0618_1.png\n",
            "CHNCXR_0121_0.png  CHNCXR_0287_0.png  CHNCXR_0453_1.png  CHNCXR_0619_1.png\n",
            "CHNCXR_0122_0.png  CHNCXR_0288_0.png  CHNCXR_0454_1.png  CHNCXR_0620_1.png\n",
            "CHNCXR_0123_0.png  CHNCXR_0289_0.png  CHNCXR_0455_1.png  CHNCXR_0621_1.png\n",
            "CHNCXR_0124_0.png  CHNCXR_0290_0.png  CHNCXR_0456_1.png  CHNCXR_0622_1.png\n",
            "CHNCXR_0125_0.png  CHNCXR_0291_0.png  CHNCXR_0457_1.png  CHNCXR_0623_1.png\n",
            "CHNCXR_0126_0.png  CHNCXR_0292_0.png  CHNCXR_0458_1.png  CHNCXR_0624_1.png\n",
            "CHNCXR_0127_0.png  CHNCXR_0293_0.png  CHNCXR_0459_1.png  CHNCXR_0625_1.png\n",
            "CHNCXR_0128_0.png  CHNCXR_0294_0.png  CHNCXR_0460_1.png  CHNCXR_0626_1.png\n",
            "CHNCXR_0129_0.png  CHNCXR_0295_0.png  CHNCXR_0461_1.png  CHNCXR_0627_1.png\n",
            "CHNCXR_0130_0.png  CHNCXR_0296_0.png  CHNCXR_0462_1.png  CHNCXR_0628_1.png\n",
            "CHNCXR_0131_0.png  CHNCXR_0297_0.png  CHNCXR_0463_1.png  CHNCXR_0629_1.png\n",
            "CHNCXR_0132_0.png  CHNCXR_0298_0.png  CHNCXR_0464_1.png  CHNCXR_0630_1.png\n",
            "CHNCXR_0133_0.png  CHNCXR_0299_0.png  CHNCXR_0465_1.png  CHNCXR_0631_1.png\n",
            "CHNCXR_0134_0.png  CHNCXR_0300_0.png  CHNCXR_0466_1.png  CHNCXR_0632_1.png\n",
            "CHNCXR_0135_0.png  CHNCXR_0301_0.png  CHNCXR_0467_1.png  CHNCXR_0633_1.png\n",
            "CHNCXR_0136_0.png  CHNCXR_0302_0.png  CHNCXR_0468_1.png  CHNCXR_0634_1.png\n",
            "CHNCXR_0137_0.png  CHNCXR_0303_0.png  CHNCXR_0469_1.png  CHNCXR_0635_1.png\n",
            "CHNCXR_0138_0.png  CHNCXR_0304_0.png  CHNCXR_0470_1.png  CHNCXR_0636_1.png\n",
            "CHNCXR_0139_0.png  CHNCXR_0305_0.png  CHNCXR_0471_1.png  CHNCXR_0637_1.png\n",
            "CHNCXR_0140_0.png  CHNCXR_0306_0.png  CHNCXR_0472_1.png  CHNCXR_0638_1.png\n",
            "CHNCXR_0141_0.png  CHNCXR_0307_0.png  CHNCXR_0473_1.png  CHNCXR_0639_1.png\n",
            "CHNCXR_0142_0.png  CHNCXR_0308_0.png  CHNCXR_0474_1.png  CHNCXR_0640_1.png\n",
            "CHNCXR_0143_0.png  CHNCXR_0309_0.png  CHNCXR_0475_1.png  CHNCXR_0641_1.png\n",
            "CHNCXR_0144_0.png  CHNCXR_0310_0.png  CHNCXR_0476_1.png  CHNCXR_0642_1.png\n",
            "CHNCXR_0145_0.png  CHNCXR_0311_0.png  CHNCXR_0477_1.png  CHNCXR_0643_1.png\n",
            "CHNCXR_0146_0.png  CHNCXR_0312_0.png  CHNCXR_0478_1.png  CHNCXR_0644_1.png\n",
            "CHNCXR_0147_0.png  CHNCXR_0313_0.png  CHNCXR_0479_1.png  CHNCXR_0645_1.png\n",
            "CHNCXR_0148_0.png  CHNCXR_0314_0.png  CHNCXR_0480_1.png  CHNCXR_0646_1.png\n",
            "CHNCXR_0149_0.png  CHNCXR_0315_0.png  CHNCXR_0481_1.png  CHNCXR_0647_1.png\n",
            "CHNCXR_0150_0.png  CHNCXR_0316_0.png  CHNCXR_0482_1.png  CHNCXR_0648_1.png\n",
            "CHNCXR_0151_0.png  CHNCXR_0317_0.png  CHNCXR_0483_1.png  CHNCXR_0649_1.png\n",
            "CHNCXR_0152_0.png  CHNCXR_0318_0.png  CHNCXR_0484_1.png  CHNCXR_0650_1.png\n",
            "CHNCXR_0153_0.png  CHNCXR_0319_0.png  CHNCXR_0485_1.png  CHNCXR_0651_1.png\n",
            "CHNCXR_0154_0.png  CHNCXR_0320_0.png  CHNCXR_0486_1.png  CHNCXR_0652_1.png\n",
            "CHNCXR_0155_0.png  CHNCXR_0321_0.png  CHNCXR_0487_1.png  CHNCXR_0653_1.png\n",
            "CHNCXR_0156_0.png  CHNCXR_0322_0.png  CHNCXR_0488_1.png  CHNCXR_0654_1.png\n",
            "CHNCXR_0157_0.png  CHNCXR_0323_0.png  CHNCXR_0489_1.png  CHNCXR_0655_1.png\n",
            "CHNCXR_0158_0.png  CHNCXR_0324_0.png  CHNCXR_0490_1.png  CHNCXR_0656_1.png\n",
            "CHNCXR_0159_0.png  CHNCXR_0325_0.png  CHNCXR_0491_1.png  CHNCXR_0657_1.png\n",
            "CHNCXR_0160_0.png  CHNCXR_0326_0.png  CHNCXR_0492_1.png  CHNCXR_0658_1.png\n",
            "CHNCXR_0161_0.png  CHNCXR_0327_1.png  CHNCXR_0493_1.png  CHNCXR_0659_1.png\n",
            "CHNCXR_0162_0.png  CHNCXR_0328_1.png  CHNCXR_0494_1.png  CHNCXR_0660_1.png\n",
            "CHNCXR_0163_0.png  CHNCXR_0329_1.png  CHNCXR_0495_1.png  CHNCXR_0661_1.png\n",
            "CHNCXR_0164_0.png  CHNCXR_0330_1.png  CHNCXR_0496_1.png  CHNCXR_0662_1.png\n",
            "CHNCXR_0165_0.png  CHNCXR_0331_1.png  CHNCXR_0497_1.png  Thumbs.db\n",
            "CHNCXR_0166_0.png  CHNCXR_0332_1.png  CHNCXR_0498_1.png\n"
          ],
          "name": "stdout"
        }
      ]
    },
    {
      "cell_type": "code",
      "metadata": {
        "id": "HMUaNCQ5Wj0u",
        "colab_type": "code",
        "colab": {}
      },
      "source": [
        "import glob\n",
        "files= sorted(glob.glob('ChinaSet_AllFiles/ChinaSet_AllFiles/CXR_png/*.png'))"
      ],
      "execution_count": 0,
      "outputs": []
    },
    {
      "cell_type": "code",
      "metadata": {
        "id": "Qw1THaupXdzI",
        "colab_type": "code",
        "colab": {}
      },
      "source": [
        "!mkdir dataset\n",
        "!mkdir dataset/0\n",
        "!mkdir dataset/1"
      ],
      "execution_count": 0,
      "outputs": []
    },
    {
      "cell_type": "code",
      "metadata": {
        "id": "lK5lg2CEXoBr",
        "colab_type": "code",
        "colab": {
          "base_uri": "https://localhost:8080/",
          "height": 68
        },
        "outputId": "d8815fee-1480-4323-e8d1-0a3f6f389c97"
      },
      "source": [
        "!ls "
      ],
      "execution_count": 27,
      "outputs": [
        {
          "output_type": "stream",
          "text": [
            "ChinaSet_AllFiles  Montgomery\t\t\t\t   sample_data\n",
            "dataset\t\t   nih-chest-xrays-224-rgb.zip\n",
            "kaggle.json\t   pulmonary-chest-xray-abnormalities.zip\n"
          ],
          "name": "stdout"
        }
      ]
    },
    {
      "cell_type": "code",
      "metadata": {
        "id": "64of-LvVWE3m",
        "colab_type": "code",
        "colab": {
          "base_uri": "https://localhost:8080/",
          "height": 34
        },
        "outputId": "c8003042-b2a5-4cab-e2de-786b9726e895"
      },
      "source": [
        "import os\n",
        "print(os.path.basename(files[0])[-5])"
      ],
      "execution_count": 25,
      "outputs": [
        {
          "output_type": "stream",
          "text": [
            "0\n"
          ],
          "name": "stdout"
        }
      ]
    },
    {
      "cell_type": "code",
      "metadata": {
        "id": "Rj2XKFB1X4bK",
        "colab_type": "code",
        "colab": {}
      },
      "source": [
        "import shutil"
      ],
      "execution_count": 0,
      "outputs": []
    },
    {
      "cell_type": "code",
      "metadata": {
        "id": "Td_5zzkeX8wm",
        "colab_type": "code",
        "colab": {}
      },
      "source": [
        "fileName=os.path.basename(files[1])"
      ],
      "execution_count": 0,
      "outputs": []
    },
    {
      "cell_type": "code",
      "metadata": {
        "id": "d1Xr7BSmY_10",
        "colab_type": "code",
        "colab": {
          "base_uri": "https://localhost:8080/",
          "height": 34
        },
        "outputId": "e18cd717-458d-46a6-bde0-ba22859a598a"
      },
      "source": [
        "fileName"
      ],
      "execution_count": 30,
      "outputs": [
        {
          "output_type": "execute_result",
          "data": {
            "text/plain": [
              "'CHNCXR_0002_0.png'"
            ]
          },
          "metadata": {
            "tags": []
          },
          "execution_count": 30
        }
      ]
    },
    {
      "cell_type": "code",
      "metadata": {
        "id": "YyY-lH_CW6n0",
        "colab_type": "code",
        "colab": {}
      },
      "source": [
        "for i in files:\n",
        "  f=os.path.basename(i)[-5]\n",
        "  fileName=os.path.basename(i)\n",
        "  if f=='0':\n",
        "    shutil.copy(i,'dataset/0/'+fileName)\n",
        "  if f=='1':\n",
        "    shutil.copy(i,'dataset/1/'+fileName)"
      ],
      "execution_count": 0,
      "outputs": []
    },
    {
      "cell_type": "code",
      "metadata": {
        "id": "_WvheM-saJFx",
        "colab_type": "code",
        "colab": {
          "base_uri": "https://localhost:8080/",
          "height": 1000
        },
        "outputId": "96fd2449-5b99-4c9d-c86a-c1300e6ed5e8"
      },
      "source": [
        "!zip -r dataset_tb.zip dataset"
      ],
      "execution_count": 40,
      "outputs": [
        {
          "output_type": "stream",
          "text": [
            "  adding: dataset/ (stored 0%)\n",
            "  adding: dataset/0/ (stored 0%)\n",
            "  adding: dataset/0/CHNCXR_0097_0.png (deflated 0%)\n",
            "  adding: dataset/0/CHNCXR_0151_0.png (deflated 0%)\n",
            "  adding: dataset/0/CHNCXR_0158_0.png (deflated 0%)\n",
            "  adding: dataset/0/CHNCXR_0299_0.png (deflated 0%)\n",
            "  adding: dataset/0/CHNCXR_0294_0.png (deflated 0%)\n",
            "  adding: dataset/0/CHNCXR_0019_0.png (deflated 0%)\n",
            "  adding: dataset/0/CHNCXR_0116_0.png (deflated 0%)\n",
            "  adding: dataset/0/CHNCXR_0231_0.png (deflated 0%)\n",
            "  adding: dataset/0/CHNCXR_0092_0.png (deflated 0%)\n",
            "  adding: dataset/0/CHNCXR_0255_0.png (deflated 0%)\n",
            "  adding: dataset/0/CHNCXR_0183_0.png (deflated 0%)\n",
            "  adding: dataset/0/CHNCXR_0003_0.png (deflated 0%)\n",
            "  adding: dataset/0/CHNCXR_0275_0.png (deflated 0%)\n",
            "  adding: dataset/0/CHNCXR_0023_0.png (deflated 0%)\n",
            "  adding: dataset/0/CHNCXR_0030_0.png (deflated 0%)\n",
            "  adding: dataset/0/CHNCXR_0070_0.png (deflated 0%)\n",
            "  adding: dataset/0/CHNCXR_0114_0.png (deflated 0%)\n",
            "  adding: dataset/0/CHNCXR_0120_0.png (deflated 0%)\n",
            "  adding: dataset/0/CHNCXR_0187_0.png (deflated 0%)\n",
            "  adding: dataset/0/CHNCXR_0243_0.png (deflated 0%)\n",
            "  adding: dataset/0/CHNCXR_0236_0.png (deflated 0%)\n",
            "  adding: dataset/0/CHNCXR_0102_0.png (deflated 0%)\n",
            "  adding: dataset/0/CHNCXR_0125_0.png (deflated 0%)\n",
            "  adding: dataset/0/CHNCXR_0108_0.png (deflated 0%)\n",
            "  adding: dataset/0/CHNCXR_0318_0.png (deflated 0%)\n",
            "  adding: dataset/0/CHNCXR_0287_0.png (deflated 0%)\n",
            "  adding: dataset/0/CHNCXR_0072_0.png (deflated 0%)\n",
            "  adding: dataset/0/CHNCXR_0143_0.png (deflated 0%)\n",
            "  adding: dataset/0/CHNCXR_0044_0.png (deflated 0%)\n",
            "  adding: dataset/0/CHNCXR_0014_0.png (deflated 0%)\n",
            "  adding: dataset/0/CHNCXR_0107_0.png (deflated 0%)\n",
            "  adding: dataset/0/CHNCXR_0123_0.png (deflated 0%)\n",
            "  adding: dataset/0/CHNCXR_0312_0.png (deflated 0%)\n",
            "  adding: dataset/0/CHNCXR_0298_0.png (deflated 0%)\n",
            "  adding: dataset/0/CHNCXR_0148_0.png (deflated 0%)\n",
            "  adding: dataset/0/CHNCXR_0022_0.png (deflated 0%)\n",
            "  adding: dataset/0/CHNCXR_0091_0.png (deflated 0%)\n",
            "  adding: dataset/0/CHNCXR_0133_0.png (deflated 0%)\n",
            "  adding: dataset/0/CHNCXR_0220_0.png (deflated 0%)\n",
            "  adding: dataset/0/CHNCXR_0321_0.png (deflated 0%)\n",
            "  adding: dataset/0/CHNCXR_0201_0.png (deflated 0%)\n",
            "  adding: dataset/0/CHNCXR_0251_0.png (deflated 0%)\n",
            "  adding: dataset/0/CHNCXR_0169_0.png (deflated 0%)\n",
            "  adding: dataset/0/CHNCXR_0191_0.png (deflated 0%)\n",
            "  adding: dataset/0/CHNCXR_0018_0.png (deflated 0%)\n",
            "  adding: dataset/0/CHNCXR_0154_0.png (deflated 0%)\n",
            "  adding: dataset/0/CHNCXR_0206_0.png (deflated 0%)\n",
            "  adding: dataset/0/CHNCXR_0119_0.png (deflated 0%)\n",
            "  adding: dataset/0/CHNCXR_0035_0.png (deflated 0%)\n",
            "  adding: dataset/0/CHNCXR_0083_0.png (deflated 0%)\n",
            "  adding: dataset/0/CHNCXR_0024_0.png (deflated 0%)\n",
            "  adding: dataset/0/CHNCXR_0297_0.png (deflated 0%)\n",
            "  adding: dataset/0/CHNCXR_0224_0.png (deflated 0%)\n",
            "  adding: dataset/0/CHNCXR_0006_0.png (deflated 0%)\n",
            "  adding: dataset/0/CHNCXR_0302_0.png (deflated 0%)\n",
            "  adding: dataset/0/CHNCXR_0284_0.png (deflated 0%)\n",
            "  adding: dataset/0/CHNCXR_0039_0.png (deflated 0%)\n",
            "  adding: dataset/0/CHNCXR_0303_0.png (deflated 0%)\n",
            "  adding: dataset/0/CHNCXR_0033_0.png (deflated 0%)\n",
            "  adding: dataset/0/CHNCXR_0041_0.png (deflated 0%)\n",
            "  adding: dataset/0/CHNCXR_0226_0.png (deflated 0%)\n",
            "  adding: dataset/0/CHNCXR_0153_0.png (deflated 0%)\n",
            "  adding: dataset/0/CHNCXR_0219_0.png (deflated 0%)\n",
            "  adding: dataset/0/CHNCXR_0068_0.png (deflated 0%)\n",
            "  adding: dataset/0/CHNCXR_0173_0.png (deflated 0%)\n",
            "  adding: dataset/0/CHNCXR_0205_0.png (deflated 0%)\n",
            "  adding: dataset/0/CHNCXR_0069_0.png (deflated 0%)\n",
            "  adding: dataset/0/CHNCXR_0242_0.png (deflated 0%)\n",
            "  adding: dataset/0/CHNCXR_0028_0.png (deflated 0%)\n",
            "  adding: dataset/0/CHNCXR_0100_0.png (deflated 0%)\n",
            "  adding: dataset/0/CHNCXR_0096_0.png (deflated 0%)\n",
            "  adding: dataset/0/CHNCXR_0046_0.png (deflated 0%)\n",
            "  adding: dataset/0/CHNCXR_0283_0.png (deflated 0%)\n",
            "  adding: dataset/0/CHNCXR_0311_0.png (deflated 0%)\n",
            "  adding: dataset/0/CHNCXR_0089_0.png (deflated 0%)\n",
            "  adding: dataset/0/CHNCXR_0152_0.png (deflated 0%)\n",
            "  adding: dataset/0/CHNCXR_0249_0.png (deflated 0%)\n",
            "  adding: dataset/0/CHNCXR_0272_0.png (deflated 0%)\n",
            "  adding: dataset/0/CHNCXR_0277_0.png (deflated 0%)\n",
            "  adding: dataset/0/CHNCXR_0075_0.png (deflated 0%)\n",
            "  adding: dataset/0/CHNCXR_0209_0.png (deflated 0%)\n",
            "  adding: dataset/0/CHNCXR_0071_0.png (deflated 0%)\n",
            "  adding: dataset/0/CHNCXR_0172_0.png (deflated 0%)\n",
            "  adding: dataset/0/CHNCXR_0304_0.png (deflated 0%)\n",
            "  adding: dataset/0/CHNCXR_0074_0.png (deflated 0%)\n",
            "  adding: dataset/0/CHNCXR_0322_0.png (deflated 0%)\n",
            "  adding: dataset/0/CHNCXR_0310_0.png (deflated 0%)\n",
            "  adding: dataset/0/CHNCXR_0204_0.png (deflated 0%)\n",
            "  adding: dataset/0/CHNCXR_0254_0.png (deflated 0%)\n",
            "  adding: dataset/0/CHNCXR_0214_0.png (deflated 0%)\n",
            "  adding: dataset/0/CHNCXR_0053_0.png (deflated 0%)\n",
            "  adding: dataset/0/CHNCXR_0290_0.png (deflated 0%)\n",
            "  adding: dataset/0/CHNCXR_0178_0.png (deflated 0%)\n",
            "  adding: dataset/0/CHNCXR_0301_0.png (deflated 0%)\n",
            "  adding: dataset/0/CHNCXR_0081_0.png (deflated 0%)\n",
            "  adding: dataset/0/CHNCXR_0264_0.png (deflated 0%)\n",
            "  adding: dataset/0/CHNCXR_0289_0.png (deflated 0%)\n",
            "  adding: dataset/0/CHNCXR_0015_0.png (deflated 0%)\n",
            "  adding: dataset/0/CHNCXR_0007_0.png (deflated 0%)\n",
            "  adding: dataset/0/CHNCXR_0029_0.png (deflated 0%)\n",
            "  adding: dataset/0/CHNCXR_0190_0.png (deflated 0%)\n",
            "  adding: dataset/0/CHNCXR_0235_0.png (deflated 0%)\n",
            "  adding: dataset/0/CHNCXR_0238_0.png (deflated 0%)\n",
            "  adding: dataset/0/CHNCXR_0109_0.png (deflated 0%)\n",
            "  adding: dataset/0/CHNCXR_0135_0.png (deflated 0%)\n",
            "  adding: dataset/0/CHNCXR_0150_0.png (deflated 0%)\n",
            "  adding: dataset/0/CHNCXR_0061_0.png (deflated 0%)\n",
            "  adding: dataset/0/CHNCXR_0274_0.png (deflated 0%)\n",
            "  adding: dataset/0/CHNCXR_0128_0.png (deflated 0%)\n",
            "  adding: dataset/0/CHNCXR_0162_0.png (deflated 0%)\n",
            "  adding: dataset/0/CHNCXR_0313_0.png (deflated 0%)\n",
            "  adding: dataset/0/CHNCXR_0305_0.png (deflated 0%)\n",
            "  adding: dataset/0/CHNCXR_0233_0.png (deflated 0%)\n",
            "  adding: dataset/0/CHNCXR_0004_0.png (deflated 0%)\n",
            "  adding: dataset/0/CHNCXR_0210_0.png (deflated 0%)\n",
            "  adding: dataset/0/CHNCXR_0196_0.png (deflated 0%)\n",
            "  adding: dataset/0/CHNCXR_0202_0.png (deflated 0%)\n",
            "  adding: dataset/0/CHNCXR_0175_0.png (deflated 0%)\n",
            "  adding: dataset/0/CHNCXR_0127_0.png (deflated 0%)\n",
            "  adding: dataset/0/CHNCXR_0203_0.png (deflated 0%)\n",
            "  adding: dataset/0/CHNCXR_0317_0.png (deflated 0%)\n",
            "  adding: dataset/0/CHNCXR_0139_0.png (deflated 0%)\n",
            "  adding: dataset/0/CHNCXR_0222_0.png (deflated 0%)\n",
            "  adding: dataset/0/CHNCXR_0121_0.png (deflated 0%)\n",
            "  adding: dataset/0/CHNCXR_0293_0.png (deflated 0%)\n",
            "  adding: dataset/0/CHNCXR_0105_0.png (deflated 0%)\n",
            "  adding: dataset/0/CHNCXR_0146_0.png (deflated 0%)\n",
            "  adding: dataset/0/CHNCXR_0282_0.png (deflated 0%)\n",
            "  adding: dataset/0/CHNCXR_0269_0.png (deflated 0%)\n",
            "  adding: dataset/0/CHNCXR_0059_0.png (deflated 0%)\n",
            "  adding: dataset/0/CHNCXR_0273_0.png (deflated 0%)\n",
            "  adding: dataset/0/CHNCXR_0155_0.png (deflated 0%)\n",
            "  adding: dataset/0/CHNCXR_0292_0.png (deflated 0%)\n",
            "  adding: dataset/0/CHNCXR_0138_0.png (deflated 0%)\n",
            "  adding: dataset/0/CHNCXR_0167_0.png (deflated 0%)\n",
            "  adding: dataset/0/CHNCXR_0058_0.png (deflated 0%)\n",
            "  adding: dataset/0/CHNCXR_0212_0.png (deflated 0%)\n",
            "  adding: dataset/0/CHNCXR_0278_0.png (deflated 0%)\n",
            "  adding: dataset/0/CHNCXR_0239_0.png (deflated 0%)\n",
            "  adding: dataset/0/CHNCXR_0315_0.png (deflated 0%)\n",
            "  adding: dataset/0/CHNCXR_0065_0.png (deflated 0%)\n",
            "  adding: dataset/0/CHNCXR_0115_0.png (deflated 0%)\n",
            "  adding: dataset/0/CHNCXR_0042_0.png (deflated 0%)\n",
            "  adding: dataset/0/CHNCXR_0245_0.png (deflated 0%)\n",
            "  adding: dataset/0/CHNCXR_0256_0.png (deflated 0%)\n",
            "  adding: dataset/0/CHNCXR_0197_0.png (deflated 0%)\n",
            "  adding: dataset/0/CHNCXR_0296_0.png (deflated 0%)\n",
            "  adding: dataset/0/CHNCXR_0234_0.png (deflated 0%)\n",
            "  adding: dataset/0/CHNCXR_0266_0.png (deflated 0%)\n",
            "  adding: dataset/0/CHNCXR_0163_0.png (deflated 0%)\n",
            "  adding: dataset/0/CHNCXR_0208_0.png (deflated 0%)\n",
            "  adding: dataset/0/CHNCXR_0168_0.png (deflated 0%)\n",
            "  adding: dataset/0/CHNCXR_0087_0.png (deflated 0%)\n",
            "  adding: dataset/0/CHNCXR_0064_0.png (deflated 0%)\n",
            "  adding: dataset/0/CHNCXR_0149_0.png (deflated 0%)\n",
            "  adding: dataset/0/CHNCXR_0137_0.png (deflated 0%)\n",
            "  adding: dataset/0/CHNCXR_0078_0.png (deflated 0%)\n",
            "  adding: dataset/0/CHNCXR_0026_0.png (deflated 0%)\n",
            "  adding: dataset/0/CHNCXR_0144_0.png (deflated 0%)\n",
            "  adding: dataset/0/CHNCXR_0184_0.png (deflated 0%)\n",
            "  adding: dataset/0/CHNCXR_0215_0.png (deflated 0%)\n",
            "  adding: dataset/0/CHNCXR_0113_0.png (deflated 0%)\n",
            "  adding: dataset/0/CHNCXR_0291_0.png (deflated 0%)\n",
            "  adding: dataset/0/CHNCXR_0134_0.png (deflated 0%)\n",
            "  adding: dataset/0/CHNCXR_0217_0.png (deflated 0%)\n",
            "  adding: dataset/0/CHNCXR_0027_0.png (deflated 0%)\n",
            "  adding: dataset/0/CHNCXR_0326_0.png (deflated 0%)\n",
            "  adding: dataset/0/CHNCXR_0247_0.png (deflated 0%)\n",
            "  adding: dataset/0/CHNCXR_0216_0.png (deflated 0%)\n",
            "  adding: dataset/0/CHNCXR_0193_0.png (deflated 0%)\n",
            "  adding: dataset/0/CHNCXR_0171_0.png (deflated 0%)\n",
            "  adding: dataset/0/CHNCXR_0082_0.png (deflated 0%)\n",
            "  adding: dataset/0/CHNCXR_0270_0.png (deflated 0%)\n",
            "  adding: dataset/0/CHNCXR_0261_0.png (deflated 0%)\n",
            "  adding: dataset/0/CHNCXR_0054_0.png (deflated 0%)\n",
            "  adding: dataset/0/CHNCXR_0324_0.png (deflated 0%)\n",
            "  adding: dataset/0/CHNCXR_0279_0.png (deflated 0%)\n",
            "  adding: dataset/0/CHNCXR_0045_0.png (deflated 0%)\n",
            "  adding: dataset/0/CHNCXR_0257_0.png (deflated 0%)\n",
            "  adding: dataset/0/CHNCXR_0179_0.png (deflated 0%)\n",
            "  adding: dataset/0/CHNCXR_0230_0.png (deflated 0%)\n",
            "  adding: dataset/0/CHNCXR_0080_0.png (deflated 0%)\n",
            "  adding: dataset/0/CHNCXR_0050_0.png (deflated 0%)\n",
            "  adding: dataset/0/CHNCXR_0229_0.png (deflated 0%)\n",
            "  adding: dataset/0/CHNCXR_0084_0.png (deflated 0%)\n",
            "  adding: dataset/0/CHNCXR_0192_0.png (deflated 0%)\n",
            "  adding: dataset/0/CHNCXR_0055_0.png (deflated 0%)\n",
            "  adding: dataset/0/CHNCXR_0164_0.png (deflated 0%)\n",
            "  adding: dataset/0/CHNCXR_0185_0.png (deflated 0%)\n",
            "  adding: dataset/0/CHNCXR_0325_0.png (deflated 0%)\n",
            "  adding: dataset/0/CHNCXR_0252_0.png (deflated 0%)\n",
            "  adding: dataset/0/CHNCXR_0067_0.png (deflated 0%)\n",
            "  adding: dataset/0/CHNCXR_0307_0.png (deflated 0%)\n",
            "  adding: dataset/0/CHNCXR_0228_0.png (deflated 0%)\n",
            "  adding: dataset/0/CHNCXR_0198_0.png (deflated 0%)\n",
            "  adding: dataset/0/CHNCXR_0262_0.png (deflated 0%)\n",
            "  adding: dataset/0/CHNCXR_0241_0.png (deflated 0%)\n",
            "  adding: dataset/0/CHNCXR_0176_0.png (deflated 0%)\n",
            "  adding: dataset/0/CHNCXR_0031_0.png (deflated 0%)\n",
            "  adding: dataset/0/CHNCXR_0079_0.png (deflated 0%)\n",
            "  adding: dataset/0/CHNCXR_0129_0.png (deflated 0%)\n",
            "  adding: dataset/0/CHNCXR_0032_0.png (deflated 0%)\n",
            "  adding: dataset/0/CHNCXR_0057_0.png (deflated 0%)\n",
            "  adding: dataset/0/CHNCXR_0225_0.png (deflated 0%)\n",
            "  adding: dataset/0/CHNCXR_0073_0.png (deflated 0%)\n",
            "  adding: dataset/0/CHNCXR_0111_0.png (deflated 0%)\n",
            "  adding: dataset/0/CHNCXR_0232_0.png (deflated 0%)\n",
            "  adding: dataset/0/CHNCXR_0246_0.png (deflated 0%)\n",
            "  adding: dataset/0/CHNCXR_0180_0.png (deflated 0%)\n",
            "  adding: dataset/0/CHNCXR_0182_0.png (deflated 0%)\n",
            "  adding: dataset/0/CHNCXR_0005_0.png (deflated 0%)\n",
            "  adding: dataset/0/CHNCXR_0316_0.png (deflated 0%)\n",
            "  adding: dataset/0/CHNCXR_0110_0.png (deflated 0%)\n",
            "  adding: dataset/0/CHNCXR_0199_0.png (deflated 0%)\n",
            "  adding: dataset/0/CHNCXR_0020_0.png (deflated 0%)\n",
            "  adding: dataset/0/CHNCXR_0038_0.png (deflated 0%)\n",
            "  adding: dataset/0/CHNCXR_0166_0.png (deflated 0%)\n",
            "  adding: dataset/0/CHNCXR_0043_0.png (deflated 0%)\n",
            "  adding: dataset/0/CHNCXR_0240_0.png (deflated 0%)\n",
            "  adding: dataset/0/CHNCXR_0211_0.png (deflated 0%)\n",
            "  adding: dataset/0/CHNCXR_0237_0.png (deflated 0%)\n",
            "  adding: dataset/0/CHNCXR_0048_0.png (deflated 0%)\n",
            "  adding: dataset/0/CHNCXR_0112_0.png (deflated 0%)\n",
            "  adding: dataset/0/CHNCXR_0300_0.png (deflated 0%)\n",
            "  adding: dataset/0/CHNCXR_0126_0.png (deflated 0%)\n",
            "  adding: dataset/0/CHNCXR_0037_0.png (deflated 0%)\n",
            "  adding: dataset/0/CHNCXR_0181_0.png (deflated 0%)\n",
            "  adding: dataset/0/CHNCXR_0051_0.png (deflated 0%)\n",
            "  adding: dataset/0/CHNCXR_0095_0.png (deflated 0%)\n",
            "  adding: dataset/0/CHNCXR_0011_0.png (deflated 0%)\n",
            "  adding: dataset/0/CHNCXR_0157_0.png (deflated 0%)\n",
            "  adding: dataset/0/CHNCXR_0103_0.png (deflated 0%)\n",
            "  adding: dataset/0/CHNCXR_0323_0.png (deflated 0%)\n",
            "  adding: dataset/0/CHNCXR_0009_0.png (deflated 0%)\n",
            "  adding: dataset/0/CHNCXR_0288_0.png (deflated 0%)\n",
            "  adding: dataset/0/CHNCXR_0099_0.png (deflated 0%)\n",
            "  adding: dataset/0/CHNCXR_0093_0.png (deflated 0%)\n",
            "  adding: dataset/0/CHNCXR_0010_0.png (deflated 0%)\n",
            "  adding: dataset/0/CHNCXR_0161_0.png (deflated 0%)\n",
            "  adding: dataset/0/CHNCXR_0221_0.png (deflated 0%)\n",
            "  adding: dataset/0/CHNCXR_0021_0.png (deflated 0%)\n",
            "  adding: dataset/0/CHNCXR_0295_0.png (deflated 0%)\n",
            "  adding: dataset/0/CHNCXR_0159_0.png (deflated 0%)\n",
            "  adding: dataset/0/CHNCXR_0132_0.png (deflated 0%)\n",
            "  adding: dataset/0/CHNCXR_0047_0.png (deflated 0%)\n",
            "  adding: dataset/0/CHNCXR_0188_0.png (deflated 0%)\n",
            "  adding: dataset/0/CHNCXR_0077_0.png (deflated 0%)\n",
            "  adding: dataset/0/CHNCXR_0160_0.png (deflated 0%)\n",
            "  adding: dataset/0/CHNCXR_0063_0.png (deflated 0%)\n",
            "  adding: dataset/0/CHNCXR_0056_0.png (deflated 0%)\n",
            "  adding: dataset/0/CHNCXR_0036_0.png (deflated 0%)\n",
            "  adding: dataset/0/CHNCXR_0106_0.png (deflated 0%)\n",
            "  adding: dataset/0/CHNCXR_0253_0.png (deflated 0%)\n",
            "  adding: dataset/0/CHNCXR_0013_0.png (deflated 0%)\n",
            "  adding: dataset/0/CHNCXR_0248_0.png (deflated 0%)\n",
            "  adding: dataset/0/CHNCXR_0052_0.png (deflated 0%)\n",
            "  adding: dataset/0/CHNCXR_0104_0.png (deflated 0%)\n",
            "  adding: dataset/0/CHNCXR_0200_0.png (deflated 0%)\n",
            "  adding: dataset/0/CHNCXR_0258_0.png (deflated 0%)\n",
            "  adding: dataset/0/CHNCXR_0280_0.png (deflated 0%)\n",
            "  adding: dataset/0/CHNCXR_0060_0.png (deflated 0%)\n",
            "  adding: dataset/0/CHNCXR_0130_0.png (deflated 0%)\n",
            "  adding: dataset/0/CHNCXR_0066_0.png (deflated 0%)\n",
            "  adding: dataset/0/CHNCXR_0076_0.png (deflated 0%)\n",
            "  adding: dataset/0/CHNCXR_0101_0.png (deflated 0%)\n",
            "  adding: dataset/0/CHNCXR_0136_0.png (deflated 0%)\n",
            "  adding: dataset/0/CHNCXR_0189_0.png (deflated 0%)\n",
            "  adding: dataset/0/CHNCXR_0227_0.png (deflated 0%)\n",
            "  adding: dataset/0/CHNCXR_0259_0.png (deflated 0%)\n",
            "  adding: dataset/0/CHNCXR_0271_0.png (deflated 0%)\n",
            "  adding: dataset/0/CHNCXR_0131_0.png (deflated 0%)\n",
            "  adding: dataset/0/CHNCXR_0001_0.png (deflated 0%)\n",
            "  adding: dataset/0/CHNCXR_0086_0.png (deflated 0%)\n",
            "  adding: dataset/0/CHNCXR_0309_0.png (deflated 0%)\n",
            "  adding: dataset/0/CHNCXR_0195_0.png (deflated 0%)\n",
            "  adding: dataset/0/CHNCXR_0118_0.png (deflated 0%)\n",
            "  adding: dataset/0/CHNCXR_0090_0.png (deflated 0%)\n",
            "  adding: dataset/0/CHNCXR_0319_0.png (deflated 0%)\n",
            "  adding: dataset/0/CHNCXR_0025_0.png (deflated 0%)\n",
            "  adding: dataset/0/CHNCXR_0186_0.png (deflated 0%)\n",
            "  adding: dataset/0/CHNCXR_0260_0.png (deflated 0%)\n",
            "  adding: dataset/0/CHNCXR_0207_0.png (deflated 0%)\n",
            "  adding: dataset/0/CHNCXR_0094_0.png (deflated 0%)\n",
            "  adding: dataset/0/CHNCXR_0122_0.png (deflated 0%)\n",
            "  adding: dataset/0/CHNCXR_0049_0.png (deflated 0%)\n",
            "  adding: dataset/0/CHNCXR_0016_0.png (deflated 0%)\n",
            "  adding: dataset/0/CHNCXR_0250_0.png (deflated 0%)\n",
            "  adding: dataset/0/CHNCXR_0281_0.png (deflated 0%)\n",
            "  adding: dataset/0/CHNCXR_0147_0.png (deflated 0%)\n",
            "  adding: dataset/0/CHNCXR_0008_0.png (deflated 0%)\n",
            "  adding: dataset/0/CHNCXR_0308_0.png (deflated 0%)\n",
            "  adding: dataset/0/CHNCXR_0156_0.png (deflated 0%)\n",
            "  adding: dataset/0/CHNCXR_0306_0.png (deflated 0%)\n",
            "  adding: dataset/0/CHNCXR_0142_0.png (deflated 0%)\n",
            "  adding: dataset/0/CHNCXR_0177_0.png (deflated 0%)\n",
            "  adding: dataset/0/CHNCXR_0194_0.png (deflated 0%)\n",
            "  adding: dataset/0/CHNCXR_0124_0.png (deflated 0%)\n",
            "  adding: dataset/0/CHNCXR_0012_0.png (deflated 0%)\n",
            "  adding: dataset/0/CHNCXR_0276_0.png (deflated 0%)\n",
            "  adding: dataset/0/CHNCXR_0286_0.png (deflated 0%)\n",
            "  adding: dataset/0/CHNCXR_0002_0.png (deflated 0%)\n",
            "  adding: dataset/0/CHNCXR_0141_0.png (deflated 0%)\n",
            "  adding: dataset/0/CHNCXR_0218_0.png (deflated 0%)\n",
            "  adding: dataset/0/CHNCXR_0263_0.png (deflated 0%)\n",
            "  adding: dataset/0/CHNCXR_0088_0.png (deflated 0%)\n",
            "  adding: dataset/0/CHNCXR_0170_0.png (deflated 0%)\n",
            "  adding: dataset/0/CHNCXR_0165_0.png (deflated 0%)\n",
            "  adding: dataset/0/CHNCXR_0085_0.png (deflated 0%)\n",
            "  adding: dataset/0/CHNCXR_0174_0.png (deflated 0%)\n",
            "  adding: dataset/0/CHNCXR_0098_0.png (deflated 0%)\n",
            "  adding: dataset/0/CHNCXR_0017_0.png (deflated 0%)\n",
            "  adding: dataset/0/CHNCXR_0285_0.png (deflated 0%)\n",
            "  adding: dataset/0/CHNCXR_0244_0.png (deflated 0%)\n",
            "  adding: dataset/0/CHNCXR_0265_0.png (deflated 0%)\n",
            "  adding: dataset/0/CHNCXR_0268_0.png (deflated 0%)\n",
            "  adding: dataset/0/CHNCXR_0034_0.png (deflated 0%)\n",
            "  adding: dataset/0/CHNCXR_0040_0.png (deflated 0%)\n",
            "  adding: dataset/0/CHNCXR_0062_0.png (deflated 0%)\n",
            "  adding: dataset/0/CHNCXR_0267_0.png (deflated 0%)\n",
            "  adding: dataset/0/CHNCXR_0223_0.png (deflated 0%)\n",
            "  adding: dataset/0/CHNCXR_0314_0.png (deflated 0%)\n",
            "  adding: dataset/0/CHNCXR_0145_0.png (deflated 0%)\n",
            "  adding: dataset/0/CHNCXR_0140_0.png (deflated 0%)\n",
            "  adding: dataset/0/CHNCXR_0320_0.png (deflated 0%)\n",
            "  adding: dataset/0/CHNCXR_0213_0.png (deflated 0%)\n",
            "  adding: dataset/0/CHNCXR_0117_0.png (deflated 0%)\n",
            "  adding: dataset/1/ (stored 0%)\n",
            "  adding: dataset/1/CHNCXR_0477_1.png (deflated 0%)\n",
            "  adding: dataset/1/CHNCXR_0549_1.png (deflated 0%)\n",
            "  adding: dataset/1/CHNCXR_0423_1.png (deflated 0%)\n",
            "  adding: dataset/1/CHNCXR_0478_1.png (deflated 0%)\n",
            "  adding: dataset/1/CHNCXR_0380_1.png (deflated 0%)\n",
            "  adding: dataset/1/CHNCXR_0437_1.png (deflated 0%)\n",
            "  adding: dataset/1/CHNCXR_0506_1.png (deflated 0%)\n",
            "  adding: dataset/1/CHNCXR_0424_1.png (deflated 0%)\n",
            "  adding: dataset/1/CHNCXR_0428_1.png (deflated 0%)\n",
            "  adding: dataset/1/CHNCXR_0336_1.png (deflated 0%)\n",
            "  adding: dataset/1/CHNCXR_0479_1.png (deflated 0%)\n",
            "  adding: dataset/1/CHNCXR_0331_1.png (deflated 0%)\n",
            "  adding: dataset/1/CHNCXR_0633_1.png (deflated 0%)\n",
            "  adding: dataset/1/CHNCXR_0645_1.png (deflated 0%)\n",
            "  adding: dataset/1/CHNCXR_0474_1.png (deflated 0%)\n",
            "  adding: dataset/1/CHNCXR_0414_1.png (deflated 0%)\n",
            "  adding: dataset/1/CHNCXR_0432_1.png (deflated 0%)\n",
            "  adding: dataset/1/CHNCXR_0471_1.png (deflated 0%)\n",
            "  adding: dataset/1/CHNCXR_0443_1.png (deflated 0%)\n",
            "  adding: dataset/1/CHNCXR_0383_1.png (deflated 0%)\n",
            "  adding: dataset/1/CHNCXR_0658_1.png (deflated 0%)\n",
            "  adding: dataset/1/CHNCXR_0496_1.png (deflated 0%)\n",
            "  adding: dataset/1/CHNCXR_0483_1.png (deflated 0%)\n",
            "  adding: dataset/1/CHNCXR_0557_1.png (deflated 0%)\n",
            "  adding: dataset/1/CHNCXR_0621_1.png (deflated 0%)\n",
            "  adding: dataset/1/CHNCXR_0523_1.png (deflated 0%)\n",
            "  adding: dataset/1/CHNCXR_0330_1.png (deflated 0%)\n",
            "  adding: dataset/1/CHNCXR_0513_1.png (deflated 0%)\n",
            "  adding: dataset/1/CHNCXR_0565_1.png (deflated 0%)\n",
            "  adding: dataset/1/CHNCXR_0556_1.png (deflated 0%)\n",
            "  adding: dataset/1/CHNCXR_0340_1.png (deflated 0%)\n",
            "  adding: dataset/1/CHNCXR_0647_1.png (deflated 0%)\n",
            "  adding: dataset/1/CHNCXR_0650_1.png (deflated 0%)\n",
            "  adding: dataset/1/CHNCXR_0627_1.png (deflated 0%)\n",
            "  adding: dataset/1/CHNCXR_0392_1.png (deflated 0%)\n",
            "  adding: dataset/1/CHNCXR_0460_1.png (deflated 0%)\n",
            "  adding: dataset/1/CHNCXR_0327_1.png (deflated 0%)\n",
            "  adding: dataset/1/CHNCXR_0492_1.png (deflated 0%)\n",
            "  adding: dataset/1/CHNCXR_0425_1.png (deflated 0%)\n",
            "  adding: dataset/1/CHNCXR_0390_1.png (deflated 0%)\n",
            "  adding: dataset/1/CHNCXR_0409_1.png (deflated 0%)\n",
            "  adding: dataset/1/CHNCXR_0467_1.png (deflated 0%)\n",
            "  adding: dataset/1/CHNCXR_0353_1.png (deflated 0%)\n",
            "  adding: dataset/1/CHNCXR_0427_1.png (deflated 0%)\n",
            "  adding: dataset/1/CHNCXR_0415_1.png (deflated 0%)\n",
            "  adding: dataset/1/CHNCXR_0594_1.png (deflated 0%)\n",
            "  adding: dataset/1/CHNCXR_0613_1.png (deflated 0%)\n",
            "  adding: dataset/1/CHNCXR_0363_1.png (deflated 0%)\n",
            "  adding: dataset/1/CHNCXR_0355_1.png (deflated 0%)\n",
            "  adding: dataset/1/CHNCXR_0653_1.png (deflated 0%)\n",
            "  adding: dataset/1/CHNCXR_0522_1.png (deflated 0%)\n",
            "  adding: dataset/1/CHNCXR_0431_1.png (deflated 0%)\n",
            "  adding: dataset/1/CHNCXR_0589_1.png (deflated 0%)\n",
            "  adding: dataset/1/CHNCXR_0429_1.png (deflated 0%)\n",
            "  adding: dataset/1/CHNCXR_0603_1.png (deflated 0%)\n",
            "  adding: dataset/1/CHNCXR_0509_1.png (deflated 0%)\n",
            "  adding: dataset/1/CHNCXR_0562_1.png (deflated 0%)\n",
            "  adding: dataset/1/CHNCXR_0405_1.png (deflated 0%)\n",
            "  adding: dataset/1/CHNCXR_0654_1.png (deflated 0%)\n",
            "  adding: dataset/1/CHNCXR_0384_1.png (deflated 0%)\n",
            "  adding: dataset/1/CHNCXR_0526_1.png (deflated 0%)\n",
            "  adding: dataset/1/CHNCXR_0397_1.png (deflated 0%)\n",
            "  adding: dataset/1/CHNCXR_0610_1.png (deflated 0%)\n",
            "  adding: dataset/1/CHNCXR_0652_1.png (deflated 0%)\n",
            "  adding: dataset/1/CHNCXR_0547_1.png (deflated 0%)\n",
            "  adding: dataset/1/CHNCXR_0402_1.png (deflated 0%)\n",
            "  adding: dataset/1/CHNCXR_0507_1.png (deflated 0%)\n",
            "  adding: dataset/1/CHNCXR_0587_1.png (deflated 0%)\n",
            "  adding: dataset/1/CHNCXR_0632_1.png (deflated 0%)\n",
            "  adding: dataset/1/CHNCXR_0612_1.png (deflated 0%)\n",
            "  adding: dataset/1/CHNCXR_0615_1.png (deflated 0%)\n",
            "  adding: dataset/1/CHNCXR_0398_1.png (deflated 0%)\n",
            "  adding: dataset/1/CHNCXR_0379_1.png (deflated 0%)\n",
            "  adding: dataset/1/CHNCXR_0511_1.png (deflated 0%)\n",
            "  adding: dataset/1/CHNCXR_0550_1.png (deflated 0%)\n",
            "  adding: dataset/1/CHNCXR_0619_1.png (deflated 0%)\n",
            "  adding: dataset/1/CHNCXR_0434_1.png (deflated 0%)\n",
            "  adding: dataset/1/CHNCXR_0580_1.png (deflated 0%)\n",
            "  adding: dataset/1/CHNCXR_0631_1.png (deflated 0%)\n",
            "  adding: dataset/1/CHNCXR_0656_1.png (deflated 0%)\n",
            "  adding: dataset/1/CHNCXR_0524_1.png (deflated 0%)\n",
            "  adding: dataset/1/CHNCXR_0545_1.png (deflated 0%)\n",
            "  adding: dataset/1/CHNCXR_0504_1.png (deflated 0%)\n",
            "  adding: dataset/1/CHNCXR_0548_1.png (deflated 0%)\n",
            "  adding: dataset/1/CHNCXR_0453_1.png (deflated 0%)\n",
            "  adding: dataset/1/CHNCXR_0487_1.png (deflated 0%)\n",
            "  adding: dataset/1/CHNCXR_0369_1.png (deflated 0%)\n",
            "  adding: dataset/1/CHNCXR_0640_1.png (deflated 0%)\n",
            "  adding: dataset/1/CHNCXR_0444_1.png (deflated 0%)\n",
            "  adding: dataset/1/CHNCXR_0422_1.png (deflated 0%)\n",
            "  adding: dataset/1/CHNCXR_0591_1.png (deflated 0%)\n",
            "  adding: dataset/1/CHNCXR_0635_1.png (deflated 0%)\n",
            "  adding: dataset/1/CHNCXR_0332_1.png (deflated 0%)\n",
            "  adding: dataset/1/CHNCXR_0371_1.png (deflated 0%)\n",
            "  adding: dataset/1/CHNCXR_0334_1.png (deflated 0%)\n",
            "  adding: dataset/1/CHNCXR_0630_1.png (deflated 0%)\n",
            "  adding: dataset/1/CHNCXR_0601_1.png (deflated 0%)\n",
            "  adding: dataset/1/CHNCXR_0489_1.png (deflated 0%)\n",
            "  adding: dataset/1/CHNCXR_0341_1.png (deflated 0%)\n",
            "  adding: dataset/1/CHNCXR_0529_1.png (deflated 0%)\n",
            "  adding: dataset/1/CHNCXR_0416_1.png (deflated 0%)\n",
            "  adding: dataset/1/CHNCXR_0412_1.png (deflated 0%)\n",
            "  adding: dataset/1/CHNCXR_0419_1.png (deflated 0%)\n",
            "  adding: dataset/1/CHNCXR_0579_1.png (deflated 0%)\n",
            "  adding: dataset/1/CHNCXR_0527_1.png (deflated 0%)\n",
            "  adding: dataset/1/CHNCXR_0662_1.png (deflated 0%)\n",
            "  adding: dataset/1/CHNCXR_0411_1.png (deflated 0%)\n",
            "  adding: dataset/1/CHNCXR_0449_1.png (deflated 0%)\n",
            "  adding: dataset/1/CHNCXR_0542_1.png (deflated 0%)\n",
            "  adding: dataset/1/CHNCXR_0623_1.png (deflated 0%)\n",
            "  adding: dataset/1/CHNCXR_0618_1.png (deflated 0%)\n",
            "  adding: dataset/1/CHNCXR_0352_1.png (deflated 0%)\n",
            "  adding: dataset/1/CHNCXR_0396_1.png (deflated 0%)\n",
            "  adding: dataset/1/CHNCXR_0616_1.png (deflated 0%)\n",
            "  adding: dataset/1/CHNCXR_0555_1.png (deflated 0%)\n",
            "  adding: dataset/1/CHNCXR_0559_1.png (deflated 0%)\n",
            "  adding: dataset/1/CHNCXR_0544_1.png (deflated 0%)\n",
            "  adding: dataset/1/CHNCXR_0582_1.png (deflated 0%)\n",
            "  adding: dataset/1/CHNCXR_0655_1.png (deflated 0%)\n",
            "  adding: dataset/1/CHNCXR_0641_1.png (deflated 0%)\n",
            "  adding: dataset/1/CHNCXR_0426_1.png (deflated 0%)\n",
            "  adding: dataset/1/CHNCXR_0617_1.png (deflated 0%)\n",
            "  adding: dataset/1/CHNCXR_0465_1.png (deflated 0%)\n",
            "  adding: dataset/1/CHNCXR_0574_1.png (deflated 0%)\n",
            "  adding: dataset/1/CHNCXR_0439_1.png (deflated 0%)\n",
            "  adding: dataset/1/CHNCXR_0461_1.png (deflated 0%)\n",
            "  adding: dataset/1/CHNCXR_0468_1.png (deflated 0%)\n",
            "  adding: dataset/1/CHNCXR_0395_1.png (deflated 0%)\n",
            "  adding: dataset/1/CHNCXR_0636_1.png (deflated 0%)\n",
            "  adding: dataset/1/CHNCXR_0639_1.png (deflated 0%)\n",
            "  adding: dataset/1/CHNCXR_0366_1.png (deflated 0%)\n",
            "  adding: dataset/1/CHNCXR_0367_1.png (deflated 0%)\n",
            "  adding: dataset/1/CHNCXR_0561_1.png (deflated 0%)\n",
            "  adding: dataset/1/CHNCXR_0576_1.png (deflated 0%)\n",
            "  adding: dataset/1/CHNCXR_0447_1.png (deflated 0%)\n",
            "  adding: dataset/1/CHNCXR_0391_1.png (deflated 0%)\n",
            "  adding: dataset/1/CHNCXR_0519_1.png (deflated 0%)\n",
            "  adding: dataset/1/CHNCXR_0457_1.png (deflated 0%)\n",
            "  adding: dataset/1/CHNCXR_0649_1.png (deflated 0%)\n",
            "  adding: dataset/1/CHNCXR_0533_1.png (deflated 0%)\n",
            "  adding: dataset/1/CHNCXR_0470_1.png (deflated 0%)\n",
            "  adding: dataset/1/CHNCXR_0595_1.png (deflated 0%)\n",
            "  adding: dataset/1/CHNCXR_0657_1.png (deflated 0%)\n",
            "  adding: dataset/1/CHNCXR_0364_1.png (deflated 0%)\n",
            "  adding: dataset/1/CHNCXR_0531_1.png (deflated 0%)\n",
            "  adding: dataset/1/CHNCXR_0438_1.png (deflated 0%)\n",
            "  adding: dataset/1/CHNCXR_0436_1.png (deflated 0%)\n",
            "  adding: dataset/1/CHNCXR_0661_1.png (deflated 0%)\n",
            "  adding: dataset/1/CHNCXR_0510_1.png (deflated 0%)\n",
            "  adding: dataset/1/CHNCXR_0442_1.png (deflated 0%)\n",
            "  adding: dataset/1/CHNCXR_0551_1.png (deflated 0%)\n",
            "  adding: dataset/1/CHNCXR_0543_1.png (deflated 0%)\n",
            "  adding: dataset/1/CHNCXR_0614_1.png (deflated 0%)\n",
            "  adding: dataset/1/CHNCXR_0602_1.png (deflated 0%)\n",
            "  adding: dataset/1/CHNCXR_0342_1.png (deflated 0%)\n",
            "  adding: dataset/1/CHNCXR_0505_1.png (deflated 0%)\n",
            "  adding: dataset/1/CHNCXR_0536_1.png (deflated 0%)\n",
            "  adding: dataset/1/CHNCXR_0570_1.png (deflated 0%)\n",
            "  adding: dataset/1/CHNCXR_0516_1.png (deflated 0%)\n",
            "  adding: dataset/1/CHNCXR_0377_1.png (deflated 0%)\n",
            "  adding: dataset/1/CHNCXR_0558_1.png (deflated 0%)\n",
            "  adding: dataset/1/CHNCXR_0659_1.png (deflated 0%)\n",
            "  adding: dataset/1/CHNCXR_0597_1.png (deflated 0%)\n",
            "  adding: dataset/1/CHNCXR_0351_1.png (deflated 0%)\n",
            "  adding: dataset/1/CHNCXR_0493_1.png (deflated 0%)\n",
            "  adding: dataset/1/CHNCXR_0459_1.png (deflated 0%)\n",
            "  adding: dataset/1/CHNCXR_0660_1.png (deflated 0%)\n",
            "  adding: dataset/1/CHNCXR_0376_1.png (deflated 0%)\n",
            "  adding: dataset/1/CHNCXR_0588_1.png (deflated 0%)\n",
            "  adding: dataset/1/CHNCXR_0458_1.png (deflated 0%)\n",
            "  adding: dataset/1/CHNCXR_0508_1.png (deflated 0%)\n",
            "  adding: dataset/1/CHNCXR_0404_1.png (deflated 0%)\n",
            "  adding: dataset/1/CHNCXR_0532_1.png (deflated 0%)\n",
            "  adding: dataset/1/CHNCXR_0535_1.png (deflated 0%)\n",
            "  adding: dataset/1/CHNCXR_0450_1.png (deflated 0%)\n",
            "  adding: dataset/1/CHNCXR_0410_1.png (deflated 0%)\n",
            "  adding: dataset/1/CHNCXR_0604_1.png (deflated 0%)\n",
            "  adding: dataset/1/CHNCXR_0606_1.png (deflated 0%)\n",
            "  adding: dataset/1/CHNCXR_0368_1.png (deflated 0%)\n",
            "  adding: dataset/1/CHNCXR_0480_1.png (deflated 0%)\n",
            "  adding: dataset/1/CHNCXR_0563_1.png (deflated 0%)\n",
            "  adding: dataset/1/CHNCXR_0472_1.png (deflated 0%)\n",
            "  adding: dataset/1/CHNCXR_0626_1.png (deflated 0%)\n",
            "  adding: dataset/1/CHNCXR_0488_1.png (deflated 0%)\n",
            "  adding: dataset/1/CHNCXR_0349_1.png (deflated 0%)\n",
            "  adding: dataset/1/CHNCXR_0564_1.png (deflated 0%)\n",
            "  adding: dataset/1/CHNCXR_0500_1.png (deflated 0%)\n",
            "  adding: dataset/1/CHNCXR_0569_1.png (deflated 0%)\n",
            "  adding: dataset/1/CHNCXR_0333_1.png (deflated 0%)\n",
            "  adding: dataset/1/CHNCXR_0337_1.png (deflated 0%)\n",
            "  adding: dataset/1/CHNCXR_0607_1.png (deflated 0%)\n",
            "  adding: dataset/1/CHNCXR_0530_1.png (deflated 0%)\n",
            "  adding: dataset/1/CHNCXR_0481_1.png (deflated 0%)\n",
            "  adding: dataset/1/CHNCXR_0343_1.png (deflated 0%)\n",
            "  adding: dataset/1/CHNCXR_0599_1.png (deflated 0%)\n",
            "  adding: dataset/1/CHNCXR_0515_1.png (deflated 0%)\n",
            "  adding: dataset/1/CHNCXR_0484_1.png (deflated 0%)\n",
            "  adding: dataset/1/CHNCXR_0528_1.png (deflated 0%)\n",
            "  adding: dataset/1/CHNCXR_0393_1.png (deflated 0%)\n",
            "  adding: dataset/1/CHNCXR_0577_1.png (deflated 0%)\n",
            "  adding: dataset/1/CHNCXR_0370_1.png (deflated 0%)\n",
            "  adding: dataset/1/CHNCXR_0408_1.png (deflated 0%)\n",
            "  adding: dataset/1/CHNCXR_0566_1.png (deflated 0%)\n",
            "  adding: dataset/1/CHNCXR_0643_1.png (deflated 0%)\n",
            "  adding: dataset/1/CHNCXR_0583_1.png (deflated 0%)\n",
            "  adding: dataset/1/CHNCXR_0378_1.png (deflated 0%)\n",
            "  adding: dataset/1/CHNCXR_0552_1.png (deflated 0%)\n",
            "  adding: dataset/1/CHNCXR_0584_1.png (deflated 0%)\n",
            "  adding: dataset/1/CHNCXR_0622_1.png (deflated 0%)\n",
            "  adding: dataset/1/CHNCXR_0339_1.png (deflated 0%)\n",
            "  adding: dataset/1/CHNCXR_0456_1.png (deflated 0%)\n",
            "  adding: dataset/1/CHNCXR_0525_1.png (deflated 0%)\n",
            "  adding: dataset/1/CHNCXR_0441_1.png (deflated 0%)\n",
            "  adding: dataset/1/CHNCXR_0598_1.png (deflated 0%)\n",
            "  adding: dataset/1/CHNCXR_0634_1.png (deflated 0%)\n",
            "  adding: dataset/1/CHNCXR_0420_1.png (deflated 0%)\n",
            "  adding: dataset/1/CHNCXR_0501_1.png (deflated 0%)\n",
            "  adding: dataset/1/CHNCXR_0642_1.png (deflated 0%)\n",
            "  adding: dataset/1/CHNCXR_0628_1.png (deflated 0%)\n",
            "  adding: dataset/1/CHNCXR_0571_1.png (deflated 0%)\n",
            "  adding: dataset/1/CHNCXR_0521_1.png (deflated 0%)\n",
            "  adding: dataset/1/CHNCXR_0596_1.png (deflated 0%)\n",
            "  adding: dataset/1/CHNCXR_0403_1.png (deflated 0%)\n",
            "  adding: dataset/1/CHNCXR_0385_1.png (deflated 0%)\n",
            "  adding: dataset/1/CHNCXR_0359_1.png (deflated 0%)\n",
            "  adding: dataset/1/CHNCXR_0553_1.png (deflated 0%)\n",
            "  adding: dataset/1/CHNCXR_0389_1.png (deflated 0%)\n",
            "  adding: dataset/1/CHNCXR_0593_1.png (deflated 0%)\n",
            "  adding: dataset/1/CHNCXR_0382_1.png (deflated 0%)\n",
            "  adding: dataset/1/CHNCXR_0421_1.png (deflated 0%)\n",
            "  adding: dataset/1/CHNCXR_0578_1.png (deflated 0%)\n",
            "  adding: dataset/1/CHNCXR_0517_1.png (deflated 0%)\n",
            "  adding: dataset/1/CHNCXR_0430_1.png (deflated 0%)\n",
            "  adding: dataset/1/CHNCXR_0381_1.png (deflated 0%)\n",
            "  adding: dataset/1/CHNCXR_0512_1.png (deflated 0%)\n",
            "  adding: dataset/1/CHNCXR_0401_1.png (deflated 0%)\n",
            "  adding: dataset/1/CHNCXR_0365_1.png (deflated 0%)\n",
            "  adding: dataset/1/CHNCXR_0335_1.png (deflated 0%)\n",
            "  adding: dataset/1/CHNCXR_0546_1.png (deflated 0%)\n",
            "  adding: dataset/1/CHNCXR_0651_1.png (deflated 0%)\n",
            "  adding: dataset/1/CHNCXR_0646_1.png (deflated 0%)\n",
            "  adding: dataset/1/CHNCXR_0567_1.png (deflated 0%)\n",
            "  adding: dataset/1/CHNCXR_0490_1.png (deflated 0%)\n",
            "  adding: dataset/1/CHNCXR_0446_1.png (deflated 0%)\n",
            "  adding: dataset/1/CHNCXR_0463_1.png (deflated 0%)\n",
            "  adding: dataset/1/CHNCXR_0329_1.png (deflated 0%)\n",
            "  adding: dataset/1/CHNCXR_0387_1.png (deflated 0%)\n",
            "  adding: dataset/1/CHNCXR_0418_1.png (deflated 0%)\n",
            "  adding: dataset/1/CHNCXR_0462_1.png (deflated 0%)\n",
            "  adding: dataset/1/CHNCXR_0455_1.png (deflated 0%)\n",
            "  adding: dataset/1/CHNCXR_0373_1.png (deflated 0%)\n",
            "  adding: dataset/1/CHNCXR_0360_1.png (deflated 0%)\n",
            "  adding: dataset/1/CHNCXR_0448_1.png (deflated 0%)\n",
            "  adding: dataset/1/CHNCXR_0592_1.png (deflated 0%)\n",
            "  adding: dataset/1/CHNCXR_0400_1.png (deflated 0%)\n",
            "  adding: dataset/1/CHNCXR_0346_1.png (deflated 0%)\n",
            "  adding: dataset/1/CHNCXR_0498_1.png (deflated 0%)\n",
            "  adding: dataset/1/CHNCXR_0417_1.png (deflated 0%)\n",
            "  adding: dataset/1/CHNCXR_0345_1.png (deflated 0%)\n",
            "  adding: dataset/1/CHNCXR_0540_1.png (deflated 0%)\n",
            "  adding: dataset/1/CHNCXR_0518_1.png (deflated 0%)\n",
            "  adding: dataset/1/CHNCXR_0539_1.png (deflated 0%)\n",
            "  adding: dataset/1/CHNCXR_0413_1.png (deflated 0%)\n",
            "  adding: dataset/1/CHNCXR_0476_1.png (deflated 0%)\n",
            "  adding: dataset/1/CHNCXR_0486_1.png (deflated 0%)\n",
            "  adding: dataset/1/CHNCXR_0537_1.png (deflated 0%)\n",
            "  adding: dataset/1/CHNCXR_0485_1.png (deflated 0%)\n",
            "  adding: dataset/1/CHNCXR_0586_1.png (deflated 0%)\n",
            "  adding: dataset/1/CHNCXR_0494_1.png (deflated 0%)\n",
            "  adding: dataset/1/CHNCXR_0590_1.png (deflated 0%)\n",
            "  adding: dataset/1/CHNCXR_0541_1.png (deflated 0%)\n",
            "  adding: dataset/1/CHNCXR_0394_1.png (deflated 0%)\n",
            "  adding: dataset/1/CHNCXR_0372_1.png (deflated 0%)\n",
            "  adding: dataset/1/CHNCXR_0534_1.png (deflated 0%)\n",
            "  adding: dataset/1/CHNCXR_0399_1.png (deflated 0%)\n",
            "  adding: dataset/1/CHNCXR_0347_1.png (deflated 0%)\n",
            "  adding: dataset/1/CHNCXR_0473_1.png (deflated 0%)\n",
            "  adding: dataset/1/CHNCXR_0554_1.png (deflated 0%)\n",
            "  adding: dataset/1/CHNCXR_0581_1.png (deflated 0%)\n",
            "  adding: dataset/1/CHNCXR_0538_1.png (deflated 0%)\n",
            "  adding: dataset/1/CHNCXR_0464_1.png (deflated 0%)\n",
            "  adding: dataset/1/CHNCXR_0520_1.png (deflated 0%)\n",
            "  adding: dataset/1/CHNCXR_0573_1.png (deflated 0%)\n",
            "  adding: dataset/1/CHNCXR_0452_1.png (deflated 0%)\n",
            "  adding: dataset/1/CHNCXR_0514_1.png (deflated 0%)\n",
            "  adding: dataset/1/CHNCXR_0611_1.png (deflated 0%)\n",
            "  adding: dataset/1/CHNCXR_0362_1.png (deflated 0%)\n",
            "  adding: dataset/1/CHNCXR_0388_1.png (deflated 0%)\n",
            "  adding: dataset/1/CHNCXR_0495_1.png (deflated 0%)\n",
            "  adding: dataset/1/CHNCXR_0499_1.png (deflated 0%)\n",
            "  adding: dataset/1/CHNCXR_0491_1.png (deflated 0%)\n",
            "  adding: dataset/1/CHNCXR_0560_1.png (deflated 0%)\n",
            "  adding: dataset/1/CHNCXR_0638_1.png (deflated 0%)\n",
            "  adding: dataset/1/CHNCXR_0433_1.png (deflated 0%)\n",
            "  adding: dataset/1/CHNCXR_0350_1.png (deflated 0%)\n",
            "  adding: dataset/1/CHNCXR_0608_1.png (deflated 0%)\n",
            "  adding: dataset/1/CHNCXR_0625_1.png (deflated 0%)\n",
            "  adding: dataset/1/CHNCXR_0648_1.png (deflated 0%)\n",
            "  adding: dataset/1/CHNCXR_0620_1.png (deflated 0%)\n",
            "  adding: dataset/1/CHNCXR_0375_1.png (deflated 0%)\n",
            "  adding: dataset/1/CHNCXR_0572_1.png (deflated 0%)\n",
            "  adding: dataset/1/CHNCXR_0637_1.png (deflated 0%)\n",
            "  adding: dataset/1/CHNCXR_0568_1.png (deflated 0%)\n",
            "  adding: dataset/1/CHNCXR_0445_1.png (deflated 0%)\n",
            "  adding: dataset/1/CHNCXR_0374_1.png (deflated 0%)\n",
            "  adding: dataset/1/CHNCXR_0451_1.png (deflated 0%)\n",
            "  adding: dataset/1/CHNCXR_0609_1.png (deflated 0%)\n",
            "  adding: dataset/1/CHNCXR_0585_1.png (deflated 0%)\n",
            "  adding: dataset/1/CHNCXR_0344_1.png (deflated 0%)\n",
            "  adding: dataset/1/CHNCXR_0356_1.png (deflated 0%)\n",
            "  adding: dataset/1/CHNCXR_0605_1.png (deflated 0%)\n",
            "  adding: dataset/1/CHNCXR_0386_1.png (deflated 0%)\n",
            "  adding: dataset/1/CHNCXR_0338_1.png (deflated 0%)\n",
            "  adding: dataset/1/CHNCXR_0466_1.png (deflated 0%)\n",
            "  adding: dataset/1/CHNCXR_0328_1.png (deflated 0%)\n",
            "  adding: dataset/1/CHNCXR_0503_1.png (deflated 0%)\n",
            "  adding: dataset/1/CHNCXR_0435_1.png (deflated 0%)\n",
            "  adding: dataset/1/CHNCXR_0348_1.png (deflated 0%)\n",
            "  adding: dataset/1/CHNCXR_0407_1.png (deflated 0%)\n",
            "  adding: dataset/1/CHNCXR_0644_1.png (deflated 0%)\n",
            "  adding: dataset/1/CHNCXR_0575_1.png (deflated 0%)\n",
            "  adding: dataset/1/CHNCXR_0358_1.png (deflated 0%)\n",
            "  adding: dataset/1/CHNCXR_0600_1.png (deflated 0%)\n",
            "  adding: dataset/1/CHNCXR_0624_1.png (deflated 0%)\n",
            "  adding: dataset/1/CHNCXR_0475_1.png (deflated 0%)\n",
            "  adding: dataset/1/CHNCXR_0440_1.png (deflated 0%)\n",
            "  adding: dataset/1/CHNCXR_0482_1.png (deflated 0%)\n",
            "  adding: dataset/1/CHNCXR_0497_1.png (deflated 0%)\n",
            "  adding: dataset/1/CHNCXR_0502_1.png (deflated 0%)\n",
            "  adding: dataset/1/CHNCXR_0406_1.png (deflated 0%)\n",
            "  adding: dataset/1/CHNCXR_0629_1.png (deflated 0%)\n",
            "  adding: dataset/1/CHNCXR_0354_1.png (deflated 0%)\n",
            "  adding: dataset/1/CHNCXR_0469_1.png (deflated 0%)\n",
            "  adding: dataset/1/CHNCXR_0361_1.png (deflated 0%)\n",
            "  adding: dataset/1/CHNCXR_0454_1.png (deflated 0%)\n",
            "  adding: dataset/1/CHNCXR_0357_1.png (deflated 0%)\n"
          ],
          "name": "stdout"
        }
      ]
    },
    {
      "cell_type": "code",
      "metadata": {
        "id": "nHXmg4GwavBX",
        "colab_type": "code",
        "colab": {
          "base_uri": "https://localhost:8080/",
          "height": 170
        },
        "outputId": "823f7217-ebce-4fb4-c8da-c7bfc2dfc7a7"
      },
      "source": [
        "!ls -l"
      ],
      "execution_count": 42,
      "outputs": [
        {
          "output_type": "stream",
          "text": [
            "total 8170116\n",
            "drwxr-xr-x 3 root root       4096 Mar 30 07:28 ChinaSet_AllFiles\n",
            "drwxr-xr-x 4 root root       4096 Mar 30 07:36 dataset\n",
            "-rw-r--r-- 1 root root 3769243881 Mar 30 07:52 dataset_tb.zip\n",
            "-rw-r--r-- 1 root root         62 Mar 30 07:18 kaggle.json\n",
            "drwxr-xr-x 4 root root       4096 Mar 30 07:29 Montgomery\n",
            "-rw-r--r-- 1 root root  209715200 Mar 30 07:19 nih-chest-xrays-224-rgb.zip\n",
            "-rw-r--r-- 1 root root 4387203169 Mar 30 07:26 pulmonary-chest-xray-abnormalities.zip\n",
            "drwxr-xr-x 1 root root       4096 Mar 18 16:23 sample_data\n"
          ],
          "name": "stdout"
        }
      ]
    },
    {
      "cell_type": "code",
      "metadata": {
        "id": "JZQy7N74b0hd",
        "colab_type": "code",
        "colab": {
          "base_uri": "https://localhost:8080/",
          "height": 122
        },
        "outputId": "6dc6c8e8-fd92-458a-d4c8-c692e53bfff0"
      },
      "source": [
        "# Load the Drive helper and mount\n",
        "from google.colab import drive\n",
        "\n",
        "# This will prompt for authorization.\n",
        "drive.mount('/content/drive')"
      ],
      "execution_count": 43,
      "outputs": [
        {
          "output_type": "stream",
          "text": [
            "Go to this URL in a browser: https://accounts.google.com/o/oauth2/auth?client_id=947318989803-6bn6qk8qdgf4n4g3pfee6491hc0brc4i.apps.googleusercontent.com&redirect_uri=urn%3aietf%3awg%3aoauth%3a2.0%3aoob&response_type=code&scope=email%20https%3a%2f%2fwww.googleapis.com%2fauth%2fdocs.test%20https%3a%2f%2fwww.googleapis.com%2fauth%2fdrive%20https%3a%2f%2fwww.googleapis.com%2fauth%2fdrive.photos.readonly%20https%3a%2f%2fwww.googleapis.com%2fauth%2fpeopleapi.readonly\n",
            "\n",
            "Enter your authorization code:\n",
            "··········\n",
            "Mounted at /content/drive\n"
          ],
          "name": "stdout"
        }
      ]
    },
    {
      "cell_type": "code",
      "metadata": {
        "id": "9cmoAXrwb-1N",
        "colab_type": "code",
        "colab": {}
      },
      "source": [
        "!mkdir 'drive/My Drive/Research'"
      ],
      "execution_count": 0,
      "outputs": []
    },
    {
      "cell_type": "code",
      "metadata": {
        "id": "n39ZET1gcT-0",
        "colab_type": "code",
        "colab": {
          "base_uri": "https://localhost:8080/",
          "height": 68
        },
        "outputId": "ef4a44fc-7ec3-45f9-ba83-22018851ee1d"
      },
      "source": [
        "!ls "
      ],
      "execution_count": 49,
      "outputs": [
        {
          "output_type": "stream",
          "text": [
            "ChinaSet_AllFiles  drive\tnih-chest-xrays-224-rgb.zip\n",
            "dataset\t\t   kaggle.json\tpulmonary-chest-xray-abnormalities.zip\n",
            "dataset_tb.zip\t   Montgomery\tsample_data\n"
          ],
          "name": "stdout"
        }
      ]
    },
    {
      "cell_type": "code",
      "metadata": {
        "id": "jnF14in6ckR9",
        "colab_type": "code",
        "colab": {}
      },
      "source": [
        "!cp  dataset_tb.zip 'drive/My Drive/Research/dataset_tb.zip'"
      ],
      "execution_count": 0,
      "outputs": []
    },
    {
      "cell_type": "code",
      "metadata": {
        "id": "bukz5IX_cvHo",
        "colab_type": "code",
        "colab": {
          "base_uri": "https://localhost:8080/",
          "height": 34
        },
        "outputId": "7f62508f-2421-4669-cba0-1db0b098783d"
      },
      "source": [
        "!ls 'drive/My Drive/Research'"
      ],
      "execution_count": 51,
      "outputs": [
        {
          "output_type": "stream",
          "text": [
            "dataset_tb.zip\n"
          ],
          "name": "stdout"
        }
      ]
    },
    {
      "cell_type": "code",
      "metadata": {
        "id": "rqOExdd9dDKp",
        "colab_type": "code",
        "colab": {}
      },
      "source": [
        ""
      ],
      "execution_count": 0,
      "outputs": []
    }
  ]
}